{
 "cells": [
  {
   "cell_type": "markdown",
   "id": "88b37122",
   "metadata": {},
   "source": [
    "# Sample Calls on Working with Memories"
   ]
  },
  {
   "cell_type": "code",
   "execution_count": null,
   "id": "48f00ffd",
   "metadata": {},
   "outputs": [],
   "source": [
    "from bedrock_agentcore.memory import MemoryClient\n",
    "client = MemoryClient(region_name=\"us-east-1\")\n",
    "memory_id=\"PokemonAgentMemory-zCM04KDWbq\"\n",
    "user_actor_id = \"UserItsuki\"\n",
    "session_id = \"session1\""
   ]
  },
  {
   "cell_type": "markdown",
   "id": "1f2dcc56",
   "metadata": {},
   "source": [
    "# List available memories (Resources)"
   ]
  },
  {
   "cell_type": "code",
   "execution_count": 6,
   "id": "f2a90a0f",
   "metadata": {},
   "outputs": [
    {
     "name": "stderr",
     "output_type": "stream",
     "text": [
      "Failed to list memories: An error occurred (ExpiredTokenException) when calling the ListMemories operation: The security token included in the request is expired\n"
     ]
    },
    {
     "ename": "ClientError",
     "evalue": "An error occurred (ExpiredTokenException) when calling the ListMemories operation: The security token included in the request is expired",
     "output_type": "error",
     "traceback": [
      "\u001b[31m---------------------------------------------------------------------------\u001b[39m",
      "\u001b[31mClientError\u001b[39m                               Traceback (most recent call last)",
      "\u001b[36mCell\u001b[39m\u001b[36m \u001b[39m\u001b[32mIn[6]\u001b[39m\u001b[32m, line 1\u001b[39m\n\u001b[32m----> \u001b[39m\u001b[32m1\u001b[39m \u001b[38;5;28;01mfor\u001b[39;00m memory \u001b[38;5;129;01min\u001b[39;00m \u001b[43mclient\u001b[49m\u001b[43m.\u001b[49m\u001b[43mlist_memories\u001b[49m\u001b[43m(\u001b[49m\u001b[43m)\u001b[49m:\n\u001b[32m      2\u001b[39m     \u001b[38;5;28mprint\u001b[39m(\u001b[33mf\u001b[39m\u001b[33m\"\u001b[39m\u001b[33mMemory Arn: \u001b[39m\u001b[38;5;132;01m{\u001b[39;00mmemory.get(\u001b[33m'\u001b[39m\u001b[33marn\u001b[39m\u001b[33m'\u001b[39m)\u001b[38;5;132;01m}\u001b[39;00m\u001b[33m\"\u001b[39m)\n\u001b[32m      3\u001b[39m     \u001b[38;5;28mprint\u001b[39m(\u001b[33mf\u001b[39m\u001b[33m\"\u001b[39m\u001b[33mMemory ID: \u001b[39m\u001b[38;5;132;01m{\u001b[39;00mmemory.get(\u001b[33m'\u001b[39m\u001b[33mid\u001b[39m\u001b[33m'\u001b[39m)\u001b[38;5;132;01m}\u001b[39;00m\u001b[33m\"\u001b[39m)\n",
      "\u001b[36mFile \u001b[39m\u001b[32m~/Desktop/AgentCoreDemo/.venv/lib/python3.12/site-packages/bedrock_agentcore/memory/client.py:1065\u001b[39m, in \u001b[36mMemoryClient.list_memories\u001b[39m\u001b[34m(self, max_results)\u001b[39m\n\u001b[32m   1061\u001b[39m \u001b[38;5;28;01mtry\u001b[39;00m:\n\u001b[32m   1062\u001b[39m     \u001b[38;5;66;03m# Ensure max_results doesn't exceed API limit per request\u001b[39;00m\n\u001b[32m   1063\u001b[39m     results_per_request = \u001b[38;5;28mmin\u001b[39m(max_results, \u001b[32m100\u001b[39m)\n\u001b[32m-> \u001b[39m\u001b[32m1065\u001b[39m     response = \u001b[38;5;28;43mself\u001b[39;49m\u001b[43m.\u001b[49m\u001b[43mgmcp_client\u001b[49m\u001b[43m.\u001b[49m\u001b[43mlist_memories\u001b[49m\u001b[43m(\u001b[49m\u001b[43mmaxResults\u001b[49m\u001b[43m=\u001b[49m\u001b[43mresults_per_request\u001b[49m\u001b[43m)\u001b[49m\n\u001b[32m   1066\u001b[39m     memories = response.get(\u001b[33m\"\u001b[39m\u001b[33mmemories\u001b[39m\u001b[33m\"\u001b[39m, [])\n\u001b[32m   1068\u001b[39m     next_token = response.get(\u001b[33m\"\u001b[39m\u001b[33mnextToken\u001b[39m\u001b[33m\"\u001b[39m)\n",
      "\u001b[36mFile \u001b[39m\u001b[32m~/Desktop/AgentCoreDemo/.venv/lib/python3.12/site-packages/botocore/client.py:601\u001b[39m, in \u001b[36mClientCreator._create_api_method.<locals>._api_call\u001b[39m\u001b[34m(self, *args, **kwargs)\u001b[39m\n\u001b[32m    597\u001b[39m     \u001b[38;5;28;01mraise\u001b[39;00m \u001b[38;5;167;01mTypeError\u001b[39;00m(\n\u001b[32m    598\u001b[39m         \u001b[33mf\u001b[39m\u001b[33m\"\u001b[39m\u001b[38;5;132;01m{\u001b[39;00mpy_operation_name\u001b[38;5;132;01m}\u001b[39;00m\u001b[33m() only accepts keyword arguments.\u001b[39m\u001b[33m\"\u001b[39m\n\u001b[32m    599\u001b[39m     )\n\u001b[32m    600\u001b[39m \u001b[38;5;66;03m# The \"self\" in this scope is referring to the BaseClient.\u001b[39;00m\n\u001b[32m--> \u001b[39m\u001b[32m601\u001b[39m \u001b[38;5;28;01mreturn\u001b[39;00m \u001b[38;5;28;43mself\u001b[39;49m\u001b[43m.\u001b[49m\u001b[43m_make_api_call\u001b[49m\u001b[43m(\u001b[49m\u001b[43moperation_name\u001b[49m\u001b[43m,\u001b[49m\u001b[43m \u001b[49m\u001b[43mkwargs\u001b[49m\u001b[43m)\u001b[49m\n",
      "\u001b[36mFile \u001b[39m\u001b[32m~/Desktop/AgentCoreDemo/.venv/lib/python3.12/site-packages/botocore/context.py:123\u001b[39m, in \u001b[36mwith_current_context.<locals>.decorator.<locals>.wrapper\u001b[39m\u001b[34m(*args, **kwargs)\u001b[39m\n\u001b[32m    121\u001b[39m \u001b[38;5;28;01mif\u001b[39;00m hook:\n\u001b[32m    122\u001b[39m     hook()\n\u001b[32m--> \u001b[39m\u001b[32m123\u001b[39m \u001b[38;5;28;01mreturn\u001b[39;00m \u001b[43mfunc\u001b[49m\u001b[43m(\u001b[49m\u001b[43m*\u001b[49m\u001b[43margs\u001b[49m\u001b[43m,\u001b[49m\u001b[43m \u001b[49m\u001b[43m*\u001b[49m\u001b[43m*\u001b[49m\u001b[43mkwargs\u001b[49m\u001b[43m)\u001b[49m\n",
      "\u001b[36mFile \u001b[39m\u001b[32m~/Desktop/AgentCoreDemo/.venv/lib/python3.12/site-packages/botocore/client.py:1074\u001b[39m, in \u001b[36mBaseClient._make_api_call\u001b[39m\u001b[34m(self, operation_name, api_params)\u001b[39m\n\u001b[32m   1070\u001b[39m     error_code = request_context.get(\n\u001b[32m   1071\u001b[39m         \u001b[33m'\u001b[39m\u001b[33merror_code_override\u001b[39m\u001b[33m'\u001b[39m\n\u001b[32m   1072\u001b[39m     ) \u001b[38;5;129;01mor\u001b[39;00m error_info.get(\u001b[33m\"\u001b[39m\u001b[33mCode\u001b[39m\u001b[33m\"\u001b[39m)\n\u001b[32m   1073\u001b[39m     error_class = \u001b[38;5;28mself\u001b[39m.exceptions.from_code(error_code)\n\u001b[32m-> \u001b[39m\u001b[32m1074\u001b[39m     \u001b[38;5;28;01mraise\u001b[39;00m error_class(parsed_response, operation_name)\n\u001b[32m   1075\u001b[39m \u001b[38;5;28;01melse\u001b[39;00m:\n\u001b[32m   1076\u001b[39m     \u001b[38;5;28;01mreturn\u001b[39;00m parsed_response\n",
      "\u001b[31mClientError\u001b[39m: An error occurred (ExpiredTokenException) when calling the ListMemories operation: The security token included in the request is expired"
     ]
    }
   ],
   "source": [
    "for memory in client.list_memories():\n",
    "    print(f\"Memory Arn: {memory.get('arn')}\")\n",
    "    print(f\"Memory ID: {memory.get('id')}\")\n",
    "    print(\"--------------------------------------------------------------------\")"
   ]
  },
  {
   "cell_type": "markdown",
   "id": "08d73947",
   "metadata": {},
   "source": [
    "## Short term memory"
   ]
  },
  {
   "cell_type": "markdown",
   "id": "8066027f",
   "metadata": {},
   "source": [
    "### Maintain user context using short-term memory"
   ]
  },
  {
   "cell_type": "markdown",
   "id": "dbcb95fa",
   "metadata": {},
   "source": [
    "##### Create events in short-term memory\n",
    "- stores agent interactions into short-term memory\n",
    "- Role can be USER, ASSISTANT, TOOL, etc"
   ]
  },
  {
   "cell_type": "code",
   "execution_count": null,
   "id": "4072f099",
   "metadata": {},
   "outputs": [
    {
     "data": {
      "text/plain": [
       "{'memoryId': 'PokemonAgentMemory-zCM04KDWbq',\n",
       " 'actorId': 'UserItsuki',\n",
       " 'sessionId': 'session1',\n",
       " 'eventId': '0000001753835845000#3a71726e',\n",
       " 'eventTimestamp': datetime.datetime(2025, 7, 30, 9, 37, 25, tzinfo=tzlocal()),\n",
       " 'branch': {'name': 'main'}}"
      ]
     },
     "execution_count": 2,
     "metadata": {},
     "output_type": "execute_result"
    }
   ],
   "source": [
    "client.create_event(\n",
    "    memory_id=memory_id, # This is the id from create_memory or list_memories\n",
    "    actor_id=user_actor_id,  # This is the identifier of the actor, could be an agent or end-user.\n",
    "    session_id=session_id, #Unique id for a particular request/conversation.\n",
    "    messages=[\n",
    "        (\"Tell me about pokemon\", \"USER\"),\n",
    "        (\"Pokémon are creatures that humans, known as Pokémon Trainers, catch and train to battle each other for sport. The franchise began with video games created by Satoshi Tajiri and Ken Sugimori, launched by Nintendo, Game Freak, and Creatures in 1996. If you have specific questions or need advice on which Pokémon to use in battles, feel free to ask!\", \"ASSISTANT\"),\n",
    "        (\"I need advice\", \"USER\")\n",
    "    ],\n",
    ")"
   ]
  },
  {
   "cell_type": "markdown",
   "id": "ae3f3ad9",
   "metadata": {},
   "source": [
    "#### Load conversations from short-term memory"
   ]
  },
  {
   "cell_type": "code",
   "execution_count": 3,
   "id": "7aa3fc9a",
   "metadata": {},
   "outputs": [
    {
     "name": "stdout",
     "output_type": "stream",
     "text": [
      "role: user\n",
      "content: Tell me about pokemon\n",
      "--------------------------------------------------------------------\n",
      "role: assistant\n",
      "content: Pokémon are creatures that humans, known as Pokémon Trainers, catch and train to battle each other for sport. The franchise began with video games created by Satoshi Tajiri and Ken Sugimori, launched by Nintendo, Game Freak, and Creatures in 1996. If you have specific questions or need advice on which Pokémon to use in battles, feel free to ask!\n",
      "--------------------------------------------------------------------\n",
      "role: user\n",
      "content: I need advice\n",
      "--------------------------------------------------------------------\n",
      "role: assistant\n",
      "content: some advice\n",
      "--------------------------------------------------------------------\n"
     ]
    }
   ],
   "source": [
    "events = client.list_events(\n",
    "    memory_id=memory_id,\n",
    "    actor_id=user_actor_id,\n",
    "    session_id=session_id,\n",
    "    max_results=5,\n",
    ")\n",
    "for event in sorted(events, key=lambda x: x[\"eventTimestamp\"]):\n",
    "    for item in event[\"payload\"]:\n",
    "        print(f\"role: {item[\"conversational\"][\"role\"].lower()}\" )\n",
    "        print(f\"content: {item[\"conversational\"][\"content\"][\"text\"]}\" )\n",
    "        print(\"--------------------------------------------------------------------\")\n"
   ]
  },
  {
   "cell_type": "markdown",
   "id": "8d0fe5b3",
   "metadata": {},
   "source": [
    "#### Add more conversations to an existing session\n",
    "- call `create_event` with the new message only\n",
    "- when we call `list_events`, we will get two entries in this case, one with 3 messages, and one with one message (the newly added one)"
   ]
  },
  {
   "cell_type": "code",
   "execution_count": null,
   "id": "d6983928",
   "metadata": {},
   "outputs": [
    {
     "data": {
      "text/plain": [
       "{'memoryId': 'PokemonAgentMemory-zCM04KDWbq',\n",
       " 'actorId': 'UserItsuki',\n",
       " 'sessionId': 'session1',\n",
       " 'eventId': '0000001753838255000#47bd996e',\n",
       " 'eventTimestamp': datetime.datetime(2025, 7, 30, 10, 17, 35, tzinfo=tzlocal()),\n",
       " 'branch': {'name': 'main'}}"
      ]
     },
     "execution_count": 11,
     "metadata": {},
     "output_type": "execute_result"
    }
   ],
   "source": [
    "client.create_event(\n",
    "    memory_id=memory_id, # This is the id from create_memory or list_memories\n",
    "    actor_id=user_actor_id,  # This is the identifier of the actor, could be an agent or end-user.\n",
    "    session_id=session_id, #Unique id for a particular request/conversation.\n",
    "    messages=[\n",
    "        # new message to be added only\n",
    "        (\"some advice\", \"ASSISTANT\")\n",
    "    ],\n",
    ")"
   ]
  },
  {
   "cell_type": "code",
   "execution_count": 4,
   "id": "3a946e1f",
   "metadata": {},
   "outputs": [
    {
     "name": "stdout",
     "output_type": "stream",
     "text": [
      "role: user\n",
      "content: Tell me about pokemon\n",
      "--------------------------------------------------------------------\n",
      "role: assistant\n",
      "content: Pokémon are creatures that humans, known as Pokémon Trainers, catch and train to battle each other for sport. The franchise began with video games created by Satoshi Tajiri and Ken Sugimori, launched by Nintendo, Game Freak, and Creatures in 1996. If you have specific questions or need advice on which Pokémon to use in battles, feel free to ask!\n",
      "--------------------------------------------------------------------\n",
      "role: user\n",
      "content: I need advice\n",
      "--------------------------------------------------------------------\n",
      "role: assistant\n",
      "content: some advice\n",
      "--------------------------------------------------------------------\n"
     ]
    }
   ],
   "source": [
    "events = client.list_events(\n",
    "    memory_id=memory_id,\n",
    "    actor_id=user_actor_id,\n",
    "    session_id=session_id,\n",
    ")\n",
    "for event in sorted(events, key=lambda x: x[\"eventTimestamp\"]):\n",
    "    for item in event[\"payload\"]:\n",
    "        print(f\"role: {item[\"conversational\"][\"role\"].lower()}\" )\n",
    "        print(f\"content: {item[\"conversational\"][\"content\"][\"text\"]}\" )\n",
    "        print(\"--------------------------------------------------------------------\")\n"
   ]
  },
  {
   "cell_type": "markdown",
   "id": "66e04bad",
   "metadata": {},
   "source": [
    "#### Branching from an event\n",
    "- Probably won't use it for regular conversation\n",
    "- Useful if we want to observe how does the agent behavior diverges based on different conversations/scenarios"
   ]
  },
  {
   "cell_type": "code",
   "execution_count": null,
   "id": "9575ca3f",
   "metadata": {},
   "outputs": [],
   "source": [
    "# branch from the first event so that the second event added above is not\n",
    "root_event_id = sorted(events, key=lambda x: x[\"eventTimestamp\"])[0][\"eventId\"]\n",
    "\n",
    "# (suppose you did not mean to ask about the weather tomorrow and want to undo\n",
    "# that, and replace with a new message)\n",
    "client.create_event(\n",
    "    memory_id=memory_id,\n",
    "    actor_id=user_actor_id,\n",
    "    session_id=session_id,\n",
    "    branch={\"name\": \"DifferentRequest\", \"rootEventId\": root_event_id},\n",
    "    messages=[\n",
    "        (\"Tell me about pikachu!\", \"USER\")\n",
    "    ]\n",
    ")"
   ]
  },
  {
   "cell_type": "code",
   "execution_count": 10,
   "id": "e5eb5997",
   "metadata": {},
   "outputs": [
    {
     "name": "stdout",
     "output_type": "stream",
     "text": [
      "event branch: {'name': 'main'}, id: 0000001753835845000#3a71726e\n",
      "role: user\n",
      "content: Tell me about pokemon\n",
      "--------------------------------------------------------------------\n",
      "role: assistant\n",
      "content: Pokémon are creatures that humans, known as Pokémon Trainers, catch and train to battle each other for sport. The franchise began with video games created by Satoshi Tajiri and Ken Sugimori, launched by Nintendo, Game Freak, and Creatures in 1996. If you have specific questions or need advice on which Pokémon to use in battles, feel free to ask!\n",
      "--------------------------------------------------------------------\n",
      "role: user\n",
      "content: I need advice\n",
      "--------------------------------------------------------------------\n",
      "event branch: {'name': 'main'}, id: 0000001753838255000#47bd996e\n",
      "role: assistant\n",
      "content: some advice\n",
      "--------------------------------------------------------------------\n",
      "event branch: {'rootEventId': '0000001753835845000#3a71726e', 'name': 'DifferentRequest'}, id: 0000001753863297000#c95c268f\n",
      "role: user\n",
      "content: Tell me about pikachu!\n",
      "--------------------------------------------------------------------\n"
     ]
    }
   ],
   "source": [
    "events = client.list_events(\n",
    "    memory_id=memory_id,\n",
    "    actor_id=user_actor_id,\n",
    "    session_id=session_id,\n",
    ")\n",
    "for event in sorted(events, key=lambda x: x[\"eventTimestamp\"]):\n",
    "    print(f\"event branch: {event[\"branch\"]}, id: {event[\"eventId\"]}\")\n",
    "    for item in event[\"payload\"]:\n",
    "        print(f\"role: {item[\"conversational\"][\"role\"].lower()}\" )\n",
    "        print(f\"content: {item[\"conversational\"][\"content\"][\"text\"]}\" )\n",
    "        print(\"--------------------------------------------------------------------\")"
   ]
  },
  {
   "cell_type": "markdown",
   "id": "9984532d",
   "metadata": {},
   "source": [
    "## Long term memory"
   ]
  },
  {
   "cell_type": "markdown",
   "id": "1e17f854",
   "metadata": {},
   "source": [
    "### Save conversations and view extracted memories"
   ]
  },
  {
   "cell_type": "code",
   "execution_count": null,
   "id": "4b6cce8c",
   "metadata": {},
   "outputs": [],
   "source": [
    "import time\n",
    "\n",
    "# Note:\n",
    "# Long-term memory records will only be extracted from events that are stored after the newly added strategies become ACTIVE.\n",
    "# Conversations stored before a strategy is added will not appear in long-term memory.\n",
    "event = client.create_event(\n",
    "    memory_id=memory_id, # This is the id from create_memory or list_memories\n",
    "    actor_id=user_actor_id,  # This is the identifier of the actor, could be an agent or end-user.\n",
    "    session_id=session_id,\n",
    "    messages=[\n",
    "        (\"Hi, tell me about pokemon\", \"USER\"),\n",
    "        (\"\"\"Pokémon are fictional creatures that trainers can capture, train, and battle. Each Pokémon belongs to a specific species and has unique abilities, types, and stats. Here are some key concepts related to Pokémon:\n",
    "\n",
    "### Types\n",
    "Each Pokémon has one or two types, such as Fire, Water, Grass, Electric, Psychic, and many more. Understanding these types is crucial for battles, as certain types have strengths and weaknesses against others. For example:\n",
    "- Fire is strong against Grass but weak against Water.\n",
    "- Water is strong against Fire but weak against Electric.\n",
    "\n",
    "### Statistics\n",
    "Pokémon have various statistics, including:\n",
    "- **HP (Hit Points)**: Determines how much damage a Pokémon can take.\n",
    "- **Attack**: Influences the damage of physical moves.\n",
    "- **Defense**: Reduces damage taken from physical moves.\n",
    "- **Special Attack** and **Special Defense**: Affect damage from special moves and resistance to them.\n",
    "- **Speed**: Determines the order of action in battles.\n",
    "\n",
    "### Abilities and Moves\n",
    "Each Pokémon has an ability that provides passive effects in battles. Moves can be attacks, status changes, or support techniques. Pokémon can learn new moves as they level up or through TM (Technical Machines) and HM (Hidden Machines) items.\n",
    "\n",
    "### Evolution\n",
    "Many Pokémon can evolve into more powerful forms when they reach certain levels, meet specific conditions, or use special items. Evolution often changes a Pokémon's type and boosts its stats.\n",
    "\n",
    "### Breeding and Training\n",
    "Trainers can breed Pokémon to produce offspring with inherited moves and abilities. Training involves leveling up Pokémon to make them stronger.\n",
    "\n",
    "### Competitive Play\n",
    "In competitive battling, players build teams considering type match-ups, move sets, and strategies to outsmart opponents.\n",
    "\n",
    "If you have specific questions about certain Pokémon, types, or strategies, feel free to ask!\"\"\", \"ASSISTANT\"),\n",
    "\n",
    "        (\"Help me choose one battleing and give me some advice on strategies to take\", \"USER\"),\n",
    "        (\"\"\"Pokémon Suggestion: **Charizard** (Fire/Flying Type)\n",
    "Charizard is versatile and can be a strong choice for many situations.\n",
    "#### Strategies:\n",
    "1. **Moveset**:\n",
    "   - **Fire Blast / Flamethrower**: Powerful Fire-type moves. Fire Blast is stronger but has lower accuracy; Flamethrower is reliable.\n",
    "   - **Air Slash**: A strong Flying-type move that can flinch opponents.\n",
    "   - **Dragon Pulse**: Useful against Dragon-types.\n",
    "   - **Roost**: Healing move to recover HP, keeping Charizard longer in battle.\n",
    "\n",
    "2. **Ability**:\n",
    "   - **Blaze**: Boosts Fire-type moves when HP is low. Useful for surprise KO risks.\n",
    "   - Alternatively, consider **Solar Power** if you have access to sunny weather (like with Sunny Day). It boosts Special Attack but lowers HP each turn.\n",
    "\n",
    "3. **Item**:\n",
    "   - **Charizardite X/Y** (Mega Evolution): Depending on your preferred form. Mega Charizard X becomes a Fire/Dragon type with enhanced physical attack, while Mega Charizard Y boosts its Special Attack further with Drought.\n",
    "   - **Choice Specs**: Boosts Special Attack but locks you into one move until you switch.\n",
    "...\n",
    "- **Switch Tactics**: Don’t hesitate to switch out Charizard if the matchup is unfavorable. Keeping your Pokémon healthy is crucial.\n",
    "- **Prediction**: Try to predict your opponent's moves and switch to a Pokémon that resists that type.\n",
    "\n",
    "Feel free to share your preferences or current Pokémon, and I can provide more tailored advice!\"\"\",\n",
    "            \"ASSISTANT\",\n",
    "        ),\n",
    "        (\"what if I want to use pikachu\", \"USER\"),\n",
    "        (\"\"\"If you want to use **Pikachu** in battle, that can be a fun choice! Pikachu is an Electric-type Pokémon known for its speed and special attack. Let’s explore strategies, movesets, and tips to maximize its effectiveness!\n",
    "\n",
    "### Pikachu Overview\n",
    "**Type**: Electric\n",
    "**Base Stats**:\n",
    "- HP: 35\n",
    "- Attack: 55\n",
    "- Defense: 40\n",
    "- Special Attack: 50\n",
    "- Special Defense: 50\n",
    "- Speed: 90\n",
    "\n",
    "### Strengths\n",
    "- **Type Advantage**: Strong against Water and Flying types.\n",
    "- **Speed**: Fast enough to outspeed many Pokémon, allowing you to strike first.\n",
    "\n",
    "### Recommended Moveset\n",
    "1. **Thunderbolt**: Reliable Electric-type move with decent power and good accuracy.\n",
    "2. **Volt Tackle**: High-power Electric move that causes recoil damage to Pikachu. Great for finishing off opponents.\n",
    "3. **Grass Knot**: Covers Ground types, which resist Electric moves.\n",
    "4. **Nuzzle**: A move that not only deals damage but also paralyzes the opponent.\n",
    "\n",
    "### Ability\n",
    "- **Static**: May paralyze opponents who make physical contact, providing additional utility.\n",
    "...\n",
    "- Teach Pikachu moves that can help it switch in safely, like Volt Switch, which allows for quick escapes while dealing damage.\n",
    "- Use Pikachu on the offensive primary during the mid-to-late game when opposing Pokémon are weakened.\n",
    "\n",
    "Overall, while Pikachu may not be as powerful as some fully evolved Pokémon, using it creatively can surprise opponents and lead to victories! Let me know if you need more details or have any specific battles in mind!\"\"\", \"ASSISTANT\"),\n",
    "    ],\n",
    ")\n",
    "\n",
    "# long-term memory is asynchronous so we will need to\n",
    "# Wait for meaningful memories to be extracted from the conversation.\n",
    "time.sleep(60)\n"
   ]
  },
  {
   "cell_type": "code",
   "execution_count": 26,
   "id": "3cf9eb95",
   "metadata": {},
   "outputs": [
    {
     "name": "stdout",
     "output_type": "stream",
     "text": [
      "created at: 2025-07-31 08:30:15+09:00\n",
      "score: 0.42846677\n",
      "content: <summary>\n",
      "    <topic name=\"Pokémon Basics\">\n",
      "        Pokémon are fictional creatures that trainers can capture, train, and battle. Each Pokémon has specific species characteristics, abilities, types, and stats. Key concepts include types (like Fire, Water, Grass, Electric, Psychic) which determine strengths and weaknesses in battles, statistics (HP, Attack, Defense, Special Attack, Special Defense, Speed), abilities that provide passive battle effects, moves for attacking and support, evolution into more powerful forms, breeding and training mechanics, and competitive play strategies.\n",
      "    </topic>\n",
      "    <topic name=\"Charizard Battle Strategy\">\n",
      "        Charizard is a Fire/Flying type Pokémon recommended for battling. Suggested moveset includes Fire Blast/Flamethrower (for power vs. reliability), Air Slash (for flinch chance), Dragon Pulse (against Dragon types), and Roost (for healing). Ability options include Blaze (boosts Fire moves at low HP) or Solar Power (boosts Special Attack but reduces HP each turn). Recommended items include Charizardite X/Y for Mega Evolution or Choice Specs to boost Special Attack. Battle tactics include effective switching when facing unfavorable matchups and predicting opponent moves.\n",
      "    </topic>\n",
      "    <topic name=\"Pikachu Battle Strategy\">\n",
      "        Pikachu is an Electric-type Pokémon known for its speed (90) and special attack (50). Its base stats include HP: 35, Attack: 55, Defense: 40, Special Defense: 50. Pikachu has type advantages against Water and Flying Pokémon. Recommended moveset includes Thunderbolt (reliable Electric move), Volt Tackle (high-power Electric move with recoil damage), Grass Knot (covers Ground types that resist Electric moves), and Nuzzle (deals damage and paralyzes). Pikachu's ability Static may paralyze opponents who make physical contact. \n",
      "        \n",
      "        Additional item suggestions include Light Ball (doubles Pikachu's Attack and Special Attack) and Focus Sash (prevents Pikachu from being knocked out from full health). Battle strategies include using Volt Switch for safe escapes while dealing damage, taking advantage of Pikachu's speed to strike first against slower opponents, and deploying Pikachu offensively during mid-to-late game when opponents are weakened, when it can be most effective by capitalizing on its speed and attack potential.\n",
      "    </topic>\n",
      "    <topic name=\"Pokémon Trading Card Game (TCG)\">\n",
      "        When asked about advice for the Pokémon Trading Card Game (TCG), the assistant provided the simple recommendation to \"choose a Pokémon you like\" as a general approach to the game. This brief advice was given in response to the user asking specifically about TCG games.\n",
      "    </topic>\n",
      "</summary>\n",
      "--------------------------------------------------------------------\n"
     ]
    }
   ],
   "source": [
    "# Query for the summary of the issue using the namespace set in summary strategy above\n",
    "memories = client.retrieve_memories(\n",
    "    memory_id=memory_id,\n",
    "    namespace=f\"/summaries/{user_actor_id}/{session_id}\",\n",
    "    query=\"can you summarize the battle strategies?\",\n",
    "    top_k = 3\n",
    ")\n",
    "\n",
    "for memory in sorted(memories, key=lambda x: x[\"createdAt\"]):\n",
    "    print(f\"created at: {memory[\"createdAt\"]}\")\n",
    "    print(f\"score: {memory[\"score\"]}\")\n",
    "    print(f\"content: {memory[\"content\"][\"text\"]}\")\n",
    "    print(\"--------------------------------------------------------------------\")\n"
   ]
  }
 ],
 "metadata": {
  "kernelspec": {
   "display_name": ".venv",
   "language": "python",
   "name": "python3"
  },
  "language_info": {
   "codemirror_mode": {
    "name": "ipython",
    "version": 3
   },
   "file_extension": ".py",
   "mimetype": "text/x-python",
   "name": "python",
   "nbconvert_exporter": "python",
   "pygments_lexer": "ipython3",
   "version": "3.12.11"
  }
 },
 "nbformat": 4,
 "nbformat_minor": 5
}
