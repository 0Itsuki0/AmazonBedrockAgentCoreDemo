{
 "cells": [
  {
   "cell_type": "markdown",
   "id": "12991106",
   "metadata": {},
   "source": [
    "# Demo calls to the Runtime with Memory Deployed"
   ]
  },
  {
   "cell_type": "markdown",
   "id": "0d633a3a",
   "metadata": {},
   "source": [
    "If the followin error is encoutnered while calling `invoke_agent_runtime`, Run the [add_role_permission.ipynb](add_role_permission.ipynb) notebook to add necessary permission to the execution role.\n",
    "<br>\n",
    "--------------<br><br>\n",
    "Error: An error occurred (AccessDeniedException) when calling the ListEvents operation: User: \n",
    "arn:aws:sts::075198889659:assumed-role/AmazonBedrockAgentCoreSDKRuntime-us-east-1-6f1a1f5565/Genesis-serviceExecutor\n",
    "-064d98df-e4b6-4f3f-99b0-41d1c38cbc09 is not authorized to perform: bedrock-agentcore:ListEvents on resource: \n",
    "arn:aws:bedrock-agentcore:us-east-1:075198889659:memory/PokemonAgentMemory-zCM04KDWbq because no identity-based \n",
    "policy allows the bedrock-agentcore:ListEvents action\n"
   ]
  },
  {
   "cell_type": "code",
   "execution_count": null,
   "id": "c35b6474",
   "metadata": {},
   "outputs": [],
   "source": [
    "runtime_arn = \"arn:aws:bedrock-agentcore:us-east-1:...\"\n",
    "user_id = \"itsuki\""
   ]
  },
  {
   "cell_type": "code",
   "execution_count": 2,
   "id": "166fc233",
   "metadata": {},
   "outputs": [
    {
     "name": "stdout",
     "output_type": "stream",
     "text": [
      "0ccebc5a-9886-4ee1-9afe-c2b115f2d927\n",
      "Pokémon are fictional creatures that trainers can capture, train, and battle. Each Pokémon belongs to a specific species and has unique abilities, types, and stats. Here are some key concepts related to Pokémon:\n",
      "\n",
      "### Types\n",
      "Each Pokémon has one or two types, such as Fire, Water, Grass, Electric, Psychic, and many more. Understanding these types is crucial for battles, as certain types have strengths and weaknesses against others. For example:\n",
      "- Fire is strong against Grass but weak against Water.\n",
      "- Water is strong against Fire but weak against Electric.\n",
      "\n",
      "### Statistics\n",
      "Pokémon have various statistics, including:\n",
      "- **HP (Hit Points)**: Determines how much damage a Pokémon can take.\n",
      "- **Attack**: Influences the damage of physical moves.\n",
      "- **Defense**: Reduces damage taken from physical moves.\n",
      "- **Special Attack** and **Special Defense**: Affect damage from special moves and resistance to them.\n",
      "- **Speed**: Determines the order of action in battles.\n",
      "\n",
      "### Abilities and Moves\n",
      "Each Pokémon has an ability that provides passive effects in battles. Moves can be attacks, status changes, or support techniques. Pokémon can learn new moves as they level up or through TM (Technical Machines) and HM (Hidden Machines) items.\n",
      "\n",
      "### Evolution\n",
      "Many Pokémon can evolve into more powerful forms when they reach certain levels, meet specific conditions, or use special items. Evolution often changes a Pokémon's type and boosts its stats.\n",
      "\n",
      "### Breeding and Training\n",
      "Trainers can breed Pokémon to produce offspring with inherited moves and abilities. Training involves leveling up Pokémon to make them stronger.\n",
      "\n",
      "### Competitive Play\n",
      "In competitive battling, players build teams considering type match-ups, move sets, and strategies to outsmart opponents.\n",
      "\n",
      "If you have specific questions about certain Pokémon, types, or strategies, feel free to ask!\n"
     ]
    }
   ],
   "source": [
    "import boto3\n",
    "import json\n",
    "\n",
    "# Initialize the Bedrock AgentCore client\n",
    "agent_core_client = boto3.client('bedrock-agentcore', region_name=\"us-east-1\")\n",
    "\n",
    "# Prepare the payload\n",
    "# First turn, no session Id\n",
    "payload = json.dumps({\n",
    "    \"prompt\": \"tell me about pokemon\",\n",
    "    \"user_id\": user_id,\n",
    "}).encode()\n",
    "\n",
    "# Invoke the agent\n",
    "response = agent_core_client.invoke_agent_runtime(\n",
    "    agentRuntimeArn=runtime_arn,\n",
    "    payload=payload\n",
    ")\n",
    "\n",
    "print(response['runtimeSessionId'])\n",
    "body = json.load(response[\"response\"])\n",
    "print(body[\"result\"])\n",
    "# .... If you're curious about a specific Pokémon or type, or if you need help choosing a Pokémon for a battle, feel free to ask!"
   ]
  },
  {
   "cell_type": "code",
   "execution_count": 3,
   "id": "a78c9e99",
   "metadata": {},
   "outputs": [
    {
     "name": "stdout",
     "output_type": "stream",
     "text": [
      "f6fab65c-30ae-4a19-b03e-bdbf45b53fef\n",
      "To help you choose a Pokémon for battling, let's consider the type of battle you're interested in (singles, doubles, competitive, casual) and your favorite Pokémon or type. However, I can give you a well-rounded choice for general battles:\n",
      "\n",
      "### Pokémon Suggestion: **Charizard** (Fire/Flying Type)\n",
      "Charizard is versatile and can be a strong choice for many situations.\n",
      "\n",
      "#### Strengths:\n",
      "- **Type Advantage**: Strong against Bug, Steel, Grass, Ice, and Fighting types.\n",
      "- **Special Attack**: High base Special Attack, allowing for powerful moves.\n",
      "- **Speed**: Good base Speed to outspeed many opponents.\n",
      "\n",
      "#### Strategies:\n",
      "1. **Moveset**:\n",
      "   - **Fire Blast / Flamethrower**: Powerful Fire-type moves. Fire Blast is stronger but has lower accuracy; Flamethrower is reliable.\n",
      "   - **Air Slash**: A strong Flying-type move that can flinch opponents.\n",
      "   - **Dragon Pulse**: Useful against Dragon-types.\n",
      "   - **Roost**: Healing move to recover HP, keeping Charizard longer in battle.\n",
      "\n",
      "2. **Ability**:\n",
      "   - **Blaze**: Boosts Fire-type moves when HP is low. Useful for surprise KO risks.\n",
      "   - Alternatively, consider **Solar Power** if you have access to sunny weather (like with Sunny Day). It boosts Special Attack but lowers HP each turn.\n",
      "\n",
      "3. **Item**:\n",
      "   - **Charizardite X/Y** (Mega Evolution): Depending on your preferred form. Mega Charizard X becomes a Fire/Dragon type with enhanced physical attack, while Mega Charizard Y boosts its Special Attack further with Drought.\n",
      "   - **Choice Specs**: Boosts Special Attack but locks you into one move until you switch.\n",
      "\n",
      "4. **Team Composition**:\n",
      "   - Pair Charizard with Pokémon that can counter its weaknesses (like Rock and Electric), such as Ground-type Pokémon.\n",
      "   - Consider Pokémon that set up sun for Solar Power or screens for protection.\n",
      "\n",
      "### General Battle Tips:\n",
      "- **Type Matchups**: Always be mindful of the types your opponents might use to exploit Charizard's weaknesses (Rock, Water, and Electric).\n",
      "- **Speed Control**: Use moves that increase your speed or status effects that can hinder your opponent's speed.\n",
      "- **Switch Tactics**: Don’t hesitate to switch out Charizard if the matchup is unfavorable. Keeping your Pokémon healthy is crucial.\n",
      "- **Prediction**: Try to predict your opponent's moves and switch to a Pokémon that resists that type.\n",
      "\n",
      "Feel free to share your preferences or current Pokémon, and I can provide more tailored advice!\n"
     ]
    }
   ],
   "source": [
    "# session Id from the previous response\n",
    "payload = json.dumps({\n",
    "    \"prompt\": \"Yes, help me choose.\",\n",
    "    \"user_id\": user_id,\n",
    "    \"session_id\": body[\"session_id\"]\n",
    "}).encode()\n",
    "\n",
    "response = agent_core_client.invoke_agent_runtime(\n",
    "    agentRuntimeArn=runtime_arn,\n",
    "    payload=payload\n",
    ")\n",
    "\n",
    "print(response['runtimeSessionId'])\n",
    "body = json.load(response[\"response\"])\n",
    "print(body[\"result\"])\n",
    "# Of course! To help you choose a Pokémon, I'll need a bit more information:\\n\\n1. **What is the level of your battle (casual, competitive, etc.)?**\\n2. **Are you looking for a specific type or combination of types?**\\n3. **What type of Pokémon do you currently have, if any?**\\n4. **Are you facing any specific opponents or types in your battle?**\\n\\nLet me know, and I'll help you find the best Pokémon for your needs!\""
   ]
  },
  {
   "cell_type": "code",
   "execution_count": null,
   "id": "be496b6d",
   "metadata": {},
   "outputs": [
    {
     "name": "stdout",
     "output_type": "stream",
     "text": [
      "65616b3b-02a6-4408-97e1-5db72f57db7b\n",
      "{'result': \"Great! For competitive battles, it's essential to consider type matchups, roles (like attacker, defender, or support), and team synergy. Here are some questions to refine your selection further:\\n\\n1. **What types of Pokémon do you want to include?** (e.g., Fire, Water, Dragon, etc.)\\n2. **What roles do you need?** (e.g., physical attacker, special attacker, tank, support)\\n3. **Are there specific Pokémon you want to include or avoid?**\\n4. **Do you have any particular strategies or goals in mind?** (e.g., using specific moves or abilities)\\n\\nOnce I have this information, I can suggest some strong choices for your competitive team!\", 'session_id': '33e031ff-7db8-4809-a837-ff356722445c', 'user_id': 'itsuki'}\n"
     ]
    }
   ],
   "source": [
    "payload = json.dumps({\n",
    "    \"prompt\": \"competitive.\",\n",
    "    \"user_id\": user_id,\n",
    "    \"session_id\": body[\"session_id\"]\n",
    "}).encode()\n",
    "\n",
    "response = agent_core_client.invoke_agent_runtime(\n",
    "    agentRuntimeArn=runtime_arn,\n",
    "    payload=payload\n",
    ")\n",
    "\n",
    "print(response['runtimeSessionId'])\n",
    "body = json.load(response[\"response\"])\n",
    "print(body[\"result\"])\n",
    "# Great! For competitive battles, it's essential to consider type matchups, roles (like attacker, defender, or support), and team synergy. Here are some questions to refine your selection further:\\n\\n1. **What types of Pokémon do you want to include?** (e.g., Fire, Water, Dragon, etc.)\\n2. **What roles do you need?** (e.g., physical attacker, special attacker, tank, support)\\n3. **Are there specific Pokémon you want to include or avoid?**\\n4. **Do you have any particular strategies or goals in mind?** (e.g., using specific moves or abilities)\\n\\nOnce I have this information, I can suggest some strong choices for your competitive team!\""
   ]
  }
 ],
 "metadata": {
  "kernelspec": {
   "display_name": ".venv",
   "language": "python",
   "name": "python3"
  },
  "language_info": {
   "codemirror_mode": {
    "name": "ipython",
    "version": 3
   },
   "file_extension": ".py",
   "mimetype": "text/x-python",
   "name": "python",
   "nbconvert_exporter": "python",
   "pygments_lexer": "ipython3",
   "version": "3.12.11"
  }
 },
 "nbformat": 4,
 "nbformat_minor": 5
}
