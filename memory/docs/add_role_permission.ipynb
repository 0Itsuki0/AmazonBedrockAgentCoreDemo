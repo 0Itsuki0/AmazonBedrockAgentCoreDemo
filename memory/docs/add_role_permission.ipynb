{
 "cells": [
  {
   "cell_type": "markdown",
   "id": "43dbc8fc",
   "metadata": {},
   "source": [
    "# Add Necessary Permission to Execution Role"
   ]
  },
  {
   "cell_type": "markdown",
   "id": "1c33bec4",
   "metadata": {},
   "source": [
    "By default, IAM Role created by `agentCore deploy` will not have enough permissions to access AgentCore memory, for example, to list events and create new ones.\n",
    "<br><br>\n",
    "We will be adding those manually here."
   ]
  },
  {
   "cell_type": "code",
   "execution_count": null,
   "id": "2f9b4868",
   "metadata": {},
   "outputs": [],
   "source": [
    "role_arn = \"arn:aws:iam::...\"\n",
    "role_name = role_arn.split('/')[-1]\n",
    "memory_arn = \"arn:aws:bedrock-agentcore:us-east-1:...\""
   ]
  },
  {
   "cell_type": "code",
   "execution_count": 3,
   "id": "fa30426c",
   "metadata": {},
   "outputs": [
    {
     "data": {
      "text/plain": [
       "{'ResponseMetadata': {'RequestId': '6064e576-1b67-4b9b-b592-b8472bc63e5b',\n",
       "  'HTTPStatusCode': 200,\n",
       "  'HTTPHeaders': {'date': 'Thu, 31 Jul 2025 02:12:35 GMT',\n",
       "   'x-amzn-requestid': '6064e576-1b67-4b9b-b592-b8472bc63e5b',\n",
       "   'content-type': 'text/xml',\n",
       "   'content-length': '206'},\n",
       "  'RetryAttempts': 0}}"
      ]
     },
     "execution_count": 3,
     "metadata": {},
     "output_type": "execute_result"
    }
   ],
   "source": [
    "import boto3\n",
    "import json\n",
    "\n",
    "iam = boto3.client('iam')\n",
    "\n",
    "policy_document = {\n",
    "    \"Version\": \"2012-10-17\",\n",
    "    \"Statement\": [\n",
    "        {\n",
    "            \"Effect\": \"Allow\",\n",
    "            # not the ListMemory, or CreateMemory\n",
    "            # those are for creating the memory resource itself.\n",
    "            \"Action\": [\n",
    "                \"bedrock-agentcore:ListEvents\",\n",
    "                \"bedrock-agentcore:CreateEvent\",\n",
    "                # this doesn't seem to be required even when calling retrieve_memories, put it here just in case\n",
    "                \"bedrock-agentcore:RetrieveMemoryRecords\"\n",
    "            ],\n",
    "            \"Resource\": [\n",
    "                memory_arn\n",
    "            ]\n",
    "        }\n",
    "    ]\n",
    "}\n",
    "\n",
    "\n",
    "iam.put_role_policy(\n",
    "    RoleName=role_name,\n",
    "    PolicyName=\"list_memory_events\",\n",
    "    PolicyDocument=json.dumps(policy_document)\n",
    ")"
   ]
  }
 ],
 "metadata": {
  "kernelspec": {
   "display_name": ".venv",
   "language": "python",
   "name": "python3"
  },
  "language_info": {
   "codemirror_mode": {
    "name": "ipython",
    "version": 3
   },
   "file_extension": ".py",
   "mimetype": "text/x-python",
   "name": "python",
   "nbconvert_exporter": "python",
   "pygments_lexer": "ipython3",
   "version": "3.12.11"
  }
 },
 "nbformat": 4,
 "nbformat_minor": 5
}
