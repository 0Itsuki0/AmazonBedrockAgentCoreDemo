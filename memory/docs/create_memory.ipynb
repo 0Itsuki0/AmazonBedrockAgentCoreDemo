{
 "cells": [
  {
   "cell_type": "markdown",
   "id": "369237b6",
   "metadata": {},
   "source": [
    "# Create Memory Resource"
   ]
  },
  {
   "cell_type": "markdown",
   "id": "08d73947",
   "metadata": {},
   "source": [
    "## Short term memory"
   ]
  },
  {
   "cell_type": "code",
   "execution_count": null,
   "id": "f2b1667c",
   "metadata": {},
   "outputs": [],
   "source": [
    "from bedrock_agentcore.memory import MemoryClient\n",
    "\n",
    "client = MemoryClient(region_name=\"us-east-1\")\n",
    "\n",
    "memory = client.create_memory(\n",
    "    name=\"PokemonAgentMemory\",\n",
    "    description=\"Memory for pokemon agent\",\n",
    "    event_expiry_days=30 # default to 90 days\n",
    ")\n",
    "\n",
    "# The memory_id will be used in following operations\n",
    "print(f\"Memory ID: {memory.get('id')}\")\n",
    "print(f\"Memory: {memory}\")\n",
    "memory_id = memory.get('id')"
   ]
  },
  {
   "cell_type": "markdown",
   "id": "9984532d",
   "metadata": {},
   "source": [
    "## Long term memory"
   ]
  },
  {
   "cell_type": "markdown",
   "id": "c2730d68",
   "metadata": {},
   "source": [
    "To [set up long term memory](https://docs.aws.amazon.com/bedrock-agentcore/latest/devguide/memory-getting-started.html#memory-getting-started-long-term-memory), we can either \n",
    "- Add strategy to exisitng memory, or \n",
    "- pass in `strategies` parameter while creating a new memory with `create_memory_and_wait`. \n",
    "\n",
    "<br>\n",
    "Couple notes: \n",
    "\n",
    "- Long-term memory takes 2-3 minutes to become ACTIVE.\n",
    "- Long-term memory records will only be extracted from events that are stored after the newly added strategies become ACTIVE. And Conversations stored before a strategy is added will not appear in long-term memory."
   ]
  },
  {
   "cell_type": "code",
   "execution_count": null,
   "id": "0c4e78ab",
   "metadata": {},
   "outputs": [
    {
     "data": {
      "text/plain": [
       "{'arn': 'arn:aws:bedrock-agentcore:us-east-1:075198889659:memory/PokemonAgentMemory-zCM04KDWbq',\n",
       " 'id': 'PokemonAgentMemory-zCM04KDWbq',\n",
       " 'name': 'PokemonAgentMemory',\n",
       " 'description': 'Memory for pokemon agent',\n",
       " 'eventExpiryDuration': 90,\n",
       " 'status': 'ACTIVE',\n",
       " 'createdAt': datetime.datetime(2025, 7, 30, 8, 39, 14, 594000, tzinfo=tzlocal()),\n",
       " 'updatedAt': datetime.datetime(2025, 7, 31, 9, 55, 9, 854000, tzinfo=tzlocal()),\n",
       " 'strategies': [{'strategyId': 'SessionSummarizer-ObDqo57HqT',\n",
       "   'name': 'SessionSummarizer',\n",
       "   'description': 'Summarizes conversation sessions',\n",
       "   'type': 'SUMMARIZATION',\n",
       "   'namespaces': ['/summaries/{actorId}/{sessionId}'],\n",
       "   'createdAt': datetime.datetime(2025, 7, 31, 9, 55, 9, 884000, tzinfo=tzlocal()),\n",
       "   'updatedAt': datetime.datetime(2025, 7, 31, 9, 55, 9, 884000, tzinfo=tzlocal()),\n",
       "   'status': 'ACTIVE',\n",
       "   'memoryStrategyId': 'SessionSummarizer-ObDqo57HqT',\n",
       "   'memoryStrategyType': 'SUMMARIZATION'}],\n",
       " 'memoryId': 'PokemonAgentMemory-zCM04KDWbq',\n",
       " 'memoryStrategies': [{'strategyId': 'SessionSummarizer-ObDqo57HqT',\n",
       "   'name': 'SessionSummarizer',\n",
       "   'description': 'Summarizes conversation sessions',\n",
       "   'type': 'SUMMARIZATION',\n",
       "   'namespaces': ['/summaries/{actorId}/{sessionId}'],\n",
       "   'createdAt': datetime.datetime(2025, 7, 31, 9, 55, 9, 884000, tzinfo=tzlocal()),\n",
       "   'updatedAt': datetime.datetime(2025, 7, 31, 9, 55, 9, 884000, tzinfo=tzlocal()),\n",
       "   'status': 'ACTIVE',\n",
       "   'memoryStrategyId': 'SessionSummarizer-ObDqo57HqT',\n",
       "   'memoryStrategyType': 'SUMMARIZATION'}]}"
      ]
     },
     "execution_count": 5,
     "metadata": {},
     "output_type": "execute_result"
    }
   ],
   "source": [
    "# there is also the add_semantic_strategy, add_user_preference_strategy, add_custom_semantic_strategy and their and_wait version.\n",
    "# to update, add, and delete all together, we can also use the update_memory_strategies_and_wait function\n",
    "client.add_summary_strategy_and_wait(\n",
    "    memory_id=memory_id,\n",
    "    name=\"SessionSummarizer\",\n",
    "    description=\"Summarizes conversation sessions\",\n",
    "    # Namespace allow us to organize all extracted information.\n",
    "    # This template will extract information for each sessionId belonging to an actor in separate namespace\n",
    "    #\n",
    "    # *important*:\n",
    "    # - the type of namespaces here is a list, but if we pass in multiple, we will get the following excpetion\n",
    "    #   ValidationException: An error occurred (ValidationException) when calling the UpdateMemory operation: Validation failed during UpdateMemory: Memory strategy SessionSummarizer has more than one namespace\n",
    "    # - Both actorId and sessionId are required for summary strategy.\n",
    "    # That is we cannot leave out the session_id parameter, ie: /summaries/{actorId}, so that the summary can be per-user.\n",
    "    namespaces=[\"/summaries/{actorId}/{sessionId}\"],\n",
    ")"
   ]
  }
 ],
 "metadata": {
  "kernelspec": {
   "display_name": ".venv",
   "language": "python",
   "name": "python3"
  },
  "language_info": {
   "codemirror_mode": {
    "name": "ipython",
    "version": 3
   },
   "file_extension": ".py",
   "mimetype": "text/x-python",
   "name": "python",
   "nbconvert_exporter": "python",
   "pygments_lexer": "ipython3",
   "version": "3.12.11"
  }
 },
 "nbformat": 4,
 "nbformat_minor": 5
}
