{
 "cells": [
  {
   "cell_type": "markdown",
   "id": "80d2e0ed",
   "metadata": {},
   "source": [
    "# Code Intepreter with Access To Other AWS Resources\n",
    "\n",
    "**Code interpreter in Public environment is required to access any AWS resources other than S3.** \n",
    "\n",
    "We can access other AWS resource in the following ways\n",
    "- Through command execution and aws CLI\n",
    "- Through code execution and AWS SDK\n",
    "\n",
    "\n",
    "Using CloudWatch Logs as an example.\n",
    "\n"
   ]
  },
  {
   "cell_type": "code",
   "execution_count": 1,
   "id": "314a2ee8",
   "metadata": {},
   "outputs": [],
   "source": [
    "region=\"us-east-1\""
   ]
  },
  {
   "cell_type": "markdown",
   "id": "d8ffc9cb",
   "metadata": {},
   "source": [
    "### Create Code Interpreter Execution Role"
   ]
  },
  {
   "cell_type": "code",
   "execution_count": 2,
   "id": "ba97048e",
   "metadata": {},
   "outputs": [],
   "source": [
    "import boto3\n",
    "import json\n",
    "\n",
    "iam = boto3.client('iam')\n",
    "role_name = \"CodeInterpreterCloudWatchExecutionRole\"\n",
    "response = iam.create_role(\n",
    "    RoleName=role_name,\n",
    "    AssumeRolePolicyDocument=json.dumps({\n",
    "        \"Version\": \"2012-10-17\",\n",
    "        \"Statement\": [\n",
    "            {\n",
    "            \"Effect\": \"Allow\",\n",
    "            \"Principal\": {\n",
    "                \"Service\": \"bedrock-agentcore.amazonaws.com\"\n",
    "            },\n",
    "            \"Action\": \"sts:AssumeRole\"\n",
    "            }\n",
    "        ]\n",
    "    }),\n",
    ")\n",
    "role_arn = response[\"Role\"][\"Arn\"]"
   ]
  },
  {
   "cell_type": "markdown",
   "id": "a59508c4",
   "metadata": {},
   "source": [
    "### Add Necessary Permissions\n",
    "\n",
    "Using CloudWatch Logs as example here."
   ]
  },
  {
   "cell_type": "code",
   "execution_count": null,
   "id": "702a110d",
   "metadata": {},
   "outputs": [
    {
     "data": {
      "text/plain": [
       "{'ResponseMetadata': {'RequestId': '806e8e89-93d6-4c40-b592-dd373a38e201',\n",
       "  'HTTPStatusCode': 200,\n",
       "  'HTTPHeaders': {'date': 'Sun, 03 Aug 2025 02:00:41 GMT',\n",
       "   'x-amzn-requestid': '806e8e89-93d6-4c40-b592-dd373a38e201',\n",
       "   'content-type': 'text/xml',\n",
       "   'content-length': '206'},\n",
       "  'RetryAttempts': 0}}"
      ]
     },
     "execution_count": 3,
     "metadata": {},
     "output_type": "execute_result"
    }
   ],
   "source": [
    "policy_name = \"log_access\"\n",
    "iam.put_role_policy(\n",
    "    RoleName=role_name,\n",
    "    PolicyName=policy_name,\n",
    "    PolicyDocument=json.dumps({\n",
    "        \"Version\": \"2012-10-17\",\n",
    "        \"Statement\": [\n",
    "            {\n",
    "                \"Effect\": \"Allow\",\n",
    "                \"Action\": [\n",
    "                    \"logs:*\"\n",
    "                ],\n",
    "                \"Resource\": [\n",
    "                    \"*\"\n",
    "                ]\n",
    "            }\n",
    "        ]\n",
    "    })\n",
    ")"
   ]
  },
  {
   "cell_type": "markdown",
   "id": "cef57757",
   "metadata": {},
   "source": [
    "### Create Code Interpreter With Execution Role Above"
   ]
  },
  {
   "cell_type": "code",
   "execution_count": 6,
   "id": "62ffe218",
   "metadata": {},
   "outputs": [],
   "source": [
    "control_client = boto3.client(\n",
    "    'bedrock-agentcore-control',\n",
    "    region_name=region,\n",
    "    endpoint_url=f\"https://bedrock-agentcore-control.{region}.amazonaws.com\"\n",
    ")\n"
   ]
  },
  {
   "cell_type": "code",
   "execution_count": 7,
   "id": "47b25871",
   "metadata": {},
   "outputs": [
    {
     "name": "stdout",
     "output_type": "stream",
     "text": [
      "code interpreter created: code_interpreter_cloud_watch-B4pozhd3xA\n"
     ]
    }
   ],
   "source": [
    "response = control_client.create_code_interpreter(\n",
    "    name=\"code_interpreter_cloud_watch\",\n",
    "    executionRoleArn=role_arn,\n",
    "    networkConfiguration={\n",
    "        \"networkMode\": \"PUBLIC\" # required to access any aws resources other than s3\n",
    "    }\n",
    ")\n",
    "code_interpreter_id = response[\"codeInterpreterId\"]\n",
    "print(f\"code interpreter created: {code_interpreter_id}\")"
   ]
  },
  {
   "cell_type": "markdown",
   "id": "1f5ef454",
   "metadata": {},
   "source": [
    "### Access AWS Resource"
   ]
  },
  {
   "cell_type": "code",
   "execution_count": 8,
   "id": "68228cd5",
   "metadata": {},
   "outputs": [],
   "source": [
    "from bedrock_agentcore.tools.code_interpreter_client import CodeInterpreter\n",
    "code_client = CodeInterpreter('us-east-1')\n",
    "log_group_name_prefix = \"/aws/bedrock-agentcore\"\n",
    "\n",
    "session_id = code_client.start(\n",
    "    identifier=code_interpreter_id\n",
    ")"
   ]
  },
  {
   "cell_type": "markdown",
   "id": "1a5c75fc",
   "metadata": {},
   "source": [
    "#### With CLI Command\n",
    "\n",
    "--no-cli-pager option is required. Otherwise, we will get *Unable to redirect output to pager* error."
   ]
  },
  {
   "cell_type": "code",
   "execution_count": 9,
   "id": "16a68038",
   "metadata": {},
   "outputs": [
    {
     "name": "stdout",
     "output_type": "stream",
     "text": [
      "{\n",
      "    \"logGroups\": [\n",
      "        {\n",
      "            \"logGroupName\": \"/aws/bedrock-agentcore/runtimes/runtime_demo-Tf8GmRCAKe-DEFAULT\",\n",
      "            \"creationTime\": 1753776049424,\n",
      "            \"metricFilterCount\": 0,\n",
      "            \"arn\": \"arn:aws:logs:us-east-1:075198889659:log-group:/aws/bedrock-agentcore/runtimes/runtime_demo-Tf8GmRCAKe-DEFAULT:*\",\n",
      "            \"storedBytes\": 1182041,\n",
      "            \"logGroupClass\": \"STANDARD\",\n",
      "            \"logGroupArn\": \"arn:aws:logs:us-east-1:075198889659:log-group:/aws/bedrock-agentcore/runtimes/runtime_demo-Tf8GmRCAKe-DEFAULT\"\n",
      "        }\n",
      "    ],\n",
      "    \"NextToken\": \"eyJuZXh0VG9rZW4iOiBudWxsLCAiYm90b190cnVuY2F0ZV9hbW91bnQiOiAxfQ==\"\n",
      "}\n",
      "\n"
     ]
    }
   ],
   "source": [
    "response = code_client.invoke(\"executeCommand\", {\n",
    "    \"command\": f\"aws logs describe-log-groups --region {region} --max-item 1 --no-cli-pager --log-group-name-prefix {log_group_name_prefix}\",\n",
    "})\n",
    "for event in response[\"stream\"]:\n",
    "    result = event[\"result\"]\n",
    "    for content in result[\"content\"]:\n",
    "        print(content[\"text\"])\n"
   ]
  },
  {
   "cell_type": "markdown",
   "id": "7762d946",
   "metadata": {},
   "source": [
    "#### With Boto3"
   ]
  },
  {
   "cell_type": "markdown",
   "id": "51d5873e",
   "metadata": {},
   "source": [
    "##### Install\n",
    "\n",
    "boto3 is not one of the libraries included"
   ]
  },
  {
   "cell_type": "code",
   "execution_count": 10,
   "id": "986a2eac",
   "metadata": {},
   "outputs": [
    {
     "name": "stdout",
     "output_type": "stream",
     "text": [
      "{\n",
      "  \"content\": [\n",
      "    {\n",
      "      \"type\": \"text\",\n",
      "      \"text\": \"Collecting boto3\\r\\n  Downloading boto3-1.40.1-py3-none-any.whl.metadata (6.7 kB)\\r\\nCollecting botocore<1.41.0,>=1.40.1 (from boto3)\\r\\n  Downloading botocore-1.40.1-py3-none-any.whl.metadata (5.7 kB)\\r\\nCollecting jmespath<2.0.0,>=0.7.1 (from boto3)\\r\\n  Downloading jmespath-1.0.1-py3-none-any.whl.metadata (7.6 kB)\\r\\nCollecting s3transfer<0.14.0,>=0.13.0 (from boto3)\\r\\n  Downloading s3transfer-0.13.1-py3-none-any.whl.metadata (1.7 kB)\\r\\nRequirement already satisfied: python-dateutil<3.0.0,>=2.1 in /opt/amazon/genesis1p-tools/venv/lib/python3.10/site-packages (from botocore<1.41.0,>=1.40.1->boto3) (2.9.0.post0)\\r\\nRequirement already satisfied: urllib3!=2.2.0,<3,>=1.25.4 in /opt/amazon/genesis1p-tools/python3.10/lib/python3.10/site-packages (from botocore<1.41.0,>=1.40.1->boto3) (1.26.19)\\r\\nRequirement already satisfied: six>=1.5 in /opt/amazon/genesis1p-tools/venv/lib/python3.10/site-packages (from python-dateutil<3.0.0,>=2.1->botocore<1.41.0,>=1.40.1->boto3) (1.16.0)\\r\\nDownloading boto3-1.40.1-py3-none-any.whl (139 kB)\\r\\nDownloading botocore-1.40.1-py3-none-any.whl (13.9 MB)\\r\\n\\u001b[?25l   \\u001b[90m\\u2501\\u2501\\u2501\\u2501\\u2501\\u2501\\u2501\\u2501\\u2501\\u2501\\u2501\\u2501\\u2501\\u2501\\u2501\\u2501\\u2501\\u2501\\u2501\\u2501\\u2501\\u2501\\u2501\\u2501\\u2501\\u2501\\u2501\\u2501\\u2501\\u2501\\u2501\\u2501\\u2501\\u2501\\u2501\\u2501\\u2501\\u2501\\u2501\\u2501\\u001b[0m \\u001b[32m0.0/13.9 MB\\u001b[0m \\u001b[31m?\\u001b[0m eta \\u001b[36m-:--:--\\u001b[0m\\r\\u001b[2K   \\u001b[91m\\u2501\\u2501\\u2501\\u2501\\u2501\\u2501\\u2501\\u2501\\u2501\\u2501\\u2501\\u2501\\u2501\\u2501\\u2501\\u2501\\u2501\\u2501\\u2501\\u2501\\u2501\\u2501\\u2501\\u2501\\u001b[0m\\u001b[91m\\u2578\\u001b[0m\\u001b[90m\\u2501\\u2501\\u2501\\u2501\\u2501\\u2501\\u2501\\u2501\\u2501\\u2501\\u2501\\u2501\\u2501\\u2501\\u2501\\u001b[0m \\u001b[32m8.7/13.9 MB\\u001b[0m \\u001b[31m336.7 MB/s\\u001b[0m eta \\u001b[36m0:00:01\\u001b[0m\\r\\u001b[2K   \\u001b[90m\\u2501\\u2501\\u2501\\u2501\\u2501\\u2501\\u2501\\u2501\\u2501\\u2501\\u2501\\u2501\\u2501\\u2501\\u2501\\u2501\\u2501\\u2501\\u2501\\u2501\\u2501\\u2501\\u2501\\u2501\\u2501\\u2501\\u2501\\u2501\\u2501\\u2501\\u2501\\u2501\\u2501\\u2501\\u2501\\u2501\\u2501\\u2501\\u2501\\u2501\\u001b[0m \\u001b[32m13.9/13.9 MB\\u001b[0m \\u001b[31m50.1 MB/s\\u001b[0m eta \\u001b[36m0:00:00\\u001b[0m\\r\\n\\u001b[?25hDownloading jmespath-1.0.1-py3-none-any.whl (20 kB)\\r\\nDownloading s3transfer-0.13.1-py3-none-any.whl (85 kB)\\r\\n\\u001b[33mWARNING: Error parsing dependencies of brazilpython-pytest-guard: Invalid version: '2.x'\\u001b[0m\\u001b[33m\\r\\n\\u001b[0m\\u001b[33mWARNING: Error parsing dependencies of brazilpython-pytest: Invalid version: '3.x'\\u001b[0m\\u001b[33m\\r\\n\\u001b[0mInstalling collected packages: jmespath, botocore, s3transfer, boto3\\r\\n\\u001b[?25l\\r\\u001b[2K   \\u001b[91m\\u2501\\u2501\\u2501\\u2501\\u2501\\u2501\\u2501\\u2501\\u2501\\u2501\\u001b[0m\\u001b[90m\\u257a\\u001b[0m\\u001b[90m\\u2501\\u2501\\u2501\\u2501\\u2501\\u2501\\u2501\\u2501\\u2501\\u2501\\u2501\\u2501\\u2501\\u2501\\u2501\\u2501\\u2501\\u2501\\u2501\\u2501\\u2501\\u2501\\u2501\\u2501\\u2501\\u2501\\u2501\\u2501\\u2501\\u001b[0m \\u001b[32m1/4\\u001b[0m [botocore]\\r\\u001b[2K   \\u001b[91m\\u2501\\u2501\\u2501\\u2501\\u2501\\u2501\\u2501\\u2501\\u2501\\u2501\\u001b[0m\\u001b[90m\\u257a\\u001b[0m\\u001b[90m\\u2501\\u2501\\u2501\\u2501\\u2501\\u2501\\u2501\\u2501\\u2501\\u2501\\u2501\\u2501\\u2501\\u2501\\u2501\\u2501\\u2501\\u2501\\u2501\\u2501\\u2501\\u2501\\u2501\\u2501\\u2501\\u2501\\u2501\\u2501\\u2501\\u001b[0m \\u001b[32m1/4\\u001b[0m [botocore]\\r\\u001b[2K   \\u001b[90m\\u2501\\u2501\\u2501\\u2501\\u2501\\u2501\\u2501\\u2501\\u2501\\u2501\\u2501\\u2501\\u2501\\u2501\\u2501\\u2501\\u2501\\u2501\\u2501\\u2501\\u2501\\u2501\\u2501\\u2501\\u2501\\u2501\\u2501\\u2501\\u2501\\u2501\\u2501\\u2501\\u2501\\u2501\\u2501\\u2501\\u2501\\u2501\\u2501\\u2501\\u001b[0m \\u001b[32m4/4\\u001b[0m [boto3]\\r\\n\\u001b[?25h\\r\\u001b[1A\\u001b[2KSuccessfully installed boto3-1.40.1 botocore-1.40.1 jmespath-1.0.1 s3transfer-0.13.1\\r\\n\\r\\n\\u001b[1m[\\u001b[0m\\u001b[34;49mnotice\\u001b[0m\\u001b[1;39;49m]\\u001b[0m\\u001b[39;49m A new release of pip is available: \\u001b[0m\\u001b[31;49m25.1.1\\u001b[0m\\u001b[39;49m -> \\u001b[0m\\u001b[32;49m25.2\\u001b[0m\\r\\n\\u001b[1m[\\u001b[0m\\u001b[34;49mnotice\\u001b[0m\\u001b[1;39;49m]\\u001b[0m\\u001b[39;49m To update, run: \\u001b[0m\\u001b[32;49mpip install --upgrade pip\\u001b[0m\\r\\n\"\n",
      "    }\n",
      "  ],\n",
      "  \"structuredContent\": {\n",
      "    \"stdout\": \"Collecting boto3\\r\\n  Downloading boto3-1.40.1-py3-none-any.whl.metadata (6.7 kB)\\r\\nCollecting botocore<1.41.0,>=1.40.1 (from boto3)\\r\\n  Downloading botocore-1.40.1-py3-none-any.whl.metadata (5.7 kB)\\r\\nCollecting jmespath<2.0.0,>=0.7.1 (from boto3)\\r\\n  Downloading jmespath-1.0.1-py3-none-any.whl.metadata (7.6 kB)\\r\\nCollecting s3transfer<0.14.0,>=0.13.0 (from boto3)\\r\\n  Downloading s3transfer-0.13.1-py3-none-any.whl.metadata (1.7 kB)\\r\\nRequirement already satisfied: python-dateutil<3.0.0,>=2.1 in /opt/amazon/genesis1p-tools/venv/lib/python3.10/site-packages (from botocore<1.41.0,>=1.40.1->boto3) (2.9.0.post0)\\r\\nRequirement already satisfied: urllib3!=2.2.0,<3,>=1.25.4 in /opt/amazon/genesis1p-tools/python3.10/lib/python3.10/site-packages (from botocore<1.41.0,>=1.40.1->boto3) (1.26.19)\\r\\nRequirement already satisfied: six>=1.5 in /opt/amazon/genesis1p-tools/venv/lib/python3.10/site-packages (from python-dateutil<3.0.0,>=2.1->botocore<1.41.0,>=1.40.1->boto3) (1.16.0)\\r\\nDownloading boto3-1.40.1-py3-none-any.whl (139 kB)\\r\\nDownloading botocore-1.40.1-py3-none-any.whl (13.9 MB)\\r\\n\\u001b[?25l   \\u001b[90m\\u2501\\u2501\\u2501\\u2501\\u2501\\u2501\\u2501\\u2501\\u2501\\u2501\\u2501\\u2501\\u2501\\u2501\\u2501\\u2501\\u2501\\u2501\\u2501\\u2501\\u2501\\u2501\\u2501\\u2501\\u2501\\u2501\\u2501\\u2501\\u2501\\u2501\\u2501\\u2501\\u2501\\u2501\\u2501\\u2501\\u2501\\u2501\\u2501\\u2501\\u001b[0m \\u001b[32m0.0/13.9 MB\\u001b[0m \\u001b[31m?\\u001b[0m eta \\u001b[36m-:--:--\\u001b[0m\\r\\u001b[2K   \\u001b[91m\\u2501\\u2501\\u2501\\u2501\\u2501\\u2501\\u2501\\u2501\\u2501\\u2501\\u2501\\u2501\\u2501\\u2501\\u2501\\u2501\\u2501\\u2501\\u2501\\u2501\\u2501\\u2501\\u2501\\u2501\\u001b[0m\\u001b[91m\\u2578\\u001b[0m\\u001b[90m\\u2501\\u2501\\u2501\\u2501\\u2501\\u2501\\u2501\\u2501\\u2501\\u2501\\u2501\\u2501\\u2501\\u2501\\u2501\\u001b[0m \\u001b[32m8.7/13.9 MB\\u001b[0m \\u001b[31m336.7 MB/s\\u001b[0m eta \\u001b[36m0:00:01\\u001b[0m\\r\\u001b[2K   \\u001b[90m\\u2501\\u2501\\u2501\\u2501\\u2501\\u2501\\u2501\\u2501\\u2501\\u2501\\u2501\\u2501\\u2501\\u2501\\u2501\\u2501\\u2501\\u2501\\u2501\\u2501\\u2501\\u2501\\u2501\\u2501\\u2501\\u2501\\u2501\\u2501\\u2501\\u2501\\u2501\\u2501\\u2501\\u2501\\u2501\\u2501\\u2501\\u2501\\u2501\\u2501\\u001b[0m \\u001b[32m13.9/13.9 MB\\u001b[0m \\u001b[31m50.1 MB/s\\u001b[0m eta \\u001b[36m0:00:00\\u001b[0m\\r\\n\\u001b[?25hDownloading jmespath-1.0.1-py3-none-any.whl (20 kB)\\r\\nDownloading s3transfer-0.13.1-py3-none-any.whl (85 kB)\\r\\n\\u001b[33mWARNING: Error parsing dependencies of brazilpython-pytest-guard: Invalid version: '2.x'\\u001b[0m\\u001b[33m\\r\\n\\u001b[0m\\u001b[33mWARNING: Error parsing dependencies of brazilpython-pytest: Invalid version: '3.x'\\u001b[0m\\u001b[33m\\r\\n\\u001b[0mInstalling collected packages: jmespath, botocore, s3transfer, boto3\\r\\n\\u001b[?25l\\r\\u001b[2K   \\u001b[91m\\u2501\\u2501\\u2501\\u2501\\u2501\\u2501\\u2501\\u2501\\u2501\\u2501\\u001b[0m\\u001b[90m\\u257a\\u001b[0m\\u001b[90m\\u2501\\u2501\\u2501\\u2501\\u2501\\u2501\\u2501\\u2501\\u2501\\u2501\\u2501\\u2501\\u2501\\u2501\\u2501\\u2501\\u2501\\u2501\\u2501\\u2501\\u2501\\u2501\\u2501\\u2501\\u2501\\u2501\\u2501\\u2501\\u2501\\u001b[0m \\u001b[32m1/4\\u001b[0m [botocore]\\r\\u001b[2K   \\u001b[91m\\u2501\\u2501\\u2501\\u2501\\u2501\\u2501\\u2501\\u2501\\u2501\\u2501\\u001b[0m\\u001b[90m\\u257a\\u001b[0m\\u001b[90m\\u2501\\u2501\\u2501\\u2501\\u2501\\u2501\\u2501\\u2501\\u2501\\u2501\\u2501\\u2501\\u2501\\u2501\\u2501\\u2501\\u2501\\u2501\\u2501\\u2501\\u2501\\u2501\\u2501\\u2501\\u2501\\u2501\\u2501\\u2501\\u2501\\u001b[0m \\u001b[32m1/4\\u001b[0m [botocore]\\r\\u001b[2K   \\u001b[90m\\u2501\\u2501\\u2501\\u2501\\u2501\\u2501\\u2501\\u2501\\u2501\\u2501\\u2501\\u2501\\u2501\\u2501\\u2501\\u2501\\u2501\\u2501\\u2501\\u2501\\u2501\\u2501\\u2501\\u2501\\u2501\\u2501\\u2501\\u2501\\u2501\\u2501\\u2501\\u2501\\u2501\\u2501\\u2501\\u2501\\u2501\\u2501\\u2501\\u2501\\u001b[0m \\u001b[32m4/4\\u001b[0m [boto3]\\r\\n\\u001b[?25h\\r\\u001b[1A\\u001b[2KSuccessfully installed boto3-1.40.1 botocore-1.40.1 jmespath-1.0.1 s3transfer-0.13.1\\r\\n\\r\\n\\u001b[1m[\\u001b[0m\\u001b[34;49mnotice\\u001b[0m\\u001b[1;39;49m]\\u001b[0m\\u001b[39;49m A new release of pip is available: \\u001b[0m\\u001b[31;49m25.1.1\\u001b[0m\\u001b[39;49m -> \\u001b[0m\\u001b[32;49m25.2\\u001b[0m\\r\\n\\u001b[1m[\\u001b[0m\\u001b[34;49mnotice\\u001b[0m\\u001b[1;39;49m]\\u001b[0m\\u001b[39;49m To update, run: \\u001b[0m\\u001b[32;49mpip install --upgrade pip\\u001b[0m\\r\\n\",\n",
      "    \"stderr\": \"\",\n",
      "    \"exitCode\": 0,\n",
      "    \"executionTime\": 2.8638532161712646\n",
      "  },\n",
      "  \"isError\": false\n",
      "}\n"
     ]
    }
   ],
   "source": [
    "response = code_client.invoke(\"executeCommand\", {\n",
    "    \"command\": \"pip install boto3\",\n",
    "})\n",
    "for event in response[\"stream\"]:\n",
    "    print(json.dumps(event[\"result\"], indent=2))\n"
   ]
  },
  {
   "cell_type": "markdown",
   "id": "0147abc1",
   "metadata": {},
   "source": [
    "##### Execute Code"
   ]
  },
  {
   "cell_type": "code",
   "execution_count": 11,
   "id": "7b410198",
   "metadata": {},
   "outputs": [
    {
     "name": "stdout",
     "output_type": "stream",
     "text": [
      "{\n",
      "  \"logGroupName\": \"/aws/bedrock-agentcore/runtimes/runtime_demo-Tf8GmRCAKe-DEFAULT\",\n",
      "  \"creationTime\": 1753776049424,\n",
      "  \"metricFilterCount\": 0,\n",
      "  \"arn\": \"arn:aws:logs:us-east-1:075198889659:log-group:/aws/bedrock-agentcore/runtimes/runtime_demo-Tf8GmRCAKe-DEFAULT:*\",\n",
      "  \"storedBytes\": 1182041,\n",
      "  \"logGroupClass\": \"STANDARD\",\n",
      "  \"logGroupArn\": \"arn:aws:logs:us-east-1:075198889659:log-group:/aws/bedrock-agentcore/runtimes/runtime_demo-Tf8GmRCAKe-DEFAULT\"\n",
      "}\n"
     ]
    }
   ],
   "source": [
    "response = code_client.invoke(\"executeCode\", {\n",
    "    \"language\": \"python\",\n",
    "    \"code\": f\"\"\"\n",
    "import boto3\n",
    "import json\n",
    "logs = boto3.client(\"logs\", region_name='{region}')\n",
    "response = logs.describe_log_groups(\n",
    "    logGroupNamePrefix=\"{log_group_name_prefix}\",\n",
    "    limit=1\n",
    ")\n",
    "for log in response[\"logGroups\"]:\n",
    "    print(json.dumps(log, indent=2))\n",
    "    \"\"\"\n",
    "})\n",
    "for event in response[\"stream\"]:\n",
    "    result = event[\"result\"]\n",
    "    for content in result[\"content\"]:\n",
    "        print(content[\"text\"])"
   ]
  },
  {
   "cell_type": "markdown",
   "id": "5c40d77c",
   "metadata": {},
   "source": [
    "### Clean up"
   ]
  },
  {
   "cell_type": "code",
   "execution_count": null,
   "id": "49aea9fb",
   "metadata": {},
   "outputs": [
    {
     "name": "stdout",
     "output_type": "stream",
     "text": [
      "Deleted!\n"
     ]
    }
   ],
   "source": [
    "\n",
    "agent_core = boto3.client(\n",
    "    'bedrock-agentcore',\n",
    "    region_name=region,\n",
    "    endpoint_url=f\"https://bedrock-agentcore.{region}.amazonaws.com\"\n",
    ")\n",
    "response = agent_core.list_code_interpreter_sessions(\n",
    "    codeInterpreterIdentifier=code_interpreter_id,\n",
    "    status=\"READY\" # 'READY'|'TERMINATED'\n",
    ")\n",
    "\n",
    "# stop all the running sessions\n",
    "for item in response[\"items\"]:\n",
    "    agent_core.stop_code_interpreter_session(\n",
    "        codeInterpreterIdentifier=code_interpreter_id,\n",
    "        sessionId=item[\"sessionId\"]\n",
    "    )\n",
    "\n",
    "response = control_client.delete_code_interpreter(\n",
    "    codeInterpreterId = code_interpreter_id\n",
    ")\n",
    "\n",
    "# delete role policy and role\n",
    "iam.delete_role_policy(\n",
    "    RoleName=role_name,\n",
    "    PolicyName=policy_name\n",
    ")\n",
    "\n",
    "iam.delete_role(\n",
    "    RoleName = role_name\n",
    ")\n",
    "print(\"Deleted!\")"
   ]
  }
 ],
 "metadata": {
  "kernelspec": {
   "display_name": ".venv",
   "language": "python",
   "name": "python3"
  },
  "language_info": {
   "codemirror_mode": {
    "name": "ipython",
    "version": 3
   },
   "file_extension": ".py",
   "mimetype": "text/x-python",
   "name": "python",
   "nbconvert_exporter": "python",
   "pygments_lexer": "ipython3",
   "version": "3.12.11"
  }
 },
 "nbformat": 4,
 "nbformat_minor": 5
}
