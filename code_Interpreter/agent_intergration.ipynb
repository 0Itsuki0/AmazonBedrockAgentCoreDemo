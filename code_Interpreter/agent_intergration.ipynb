{
 "cells": [
  {
   "cell_type": "markdown",
   "id": "124906b7",
   "metadata": {},
   "source": [
    "# Code Interpreter + OpenAI Agent\n",
    "\n",
    "\n",
    "To host the agent using AgentCore Runtime, please refer to [basic_runtime](../basic_runtime/README.md).\n",
    "\n",
    "If used with AgentCore Runtime, also make sure to add the following permissions to the execution role as described in the [README](./README.md)\n",
    "\n",
    "- bedrock-agentcore:StartCodeInterpreterSession\n",
    "- bedrock-agentcore:InvokeCodeInterpreter\n",
    "- bedrock-agentcore:StopCodeInterpreterSession\n",
    "- bedrock-agentcore:GetCodeInterpreter\n",
    "- bedrock-agentcore:GetCodeInterpreterSession"
   ]
  },
  {
   "cell_type": "markdown",
   "id": "e70f20bc",
   "metadata": {},
   "source": [
    "### CodeInterpreter set up"
   ]
  },
  {
   "cell_type": "code",
   "execution_count": 1,
   "id": "3428ee14",
   "metadata": {},
   "outputs": [],
   "source": [
    "from bedrock_agentcore.tools.code_interpreter_client import CodeInterpreter\n",
    "code_client = CodeInterpreter('us-east-1')\n"
   ]
  },
  {
   "cell_type": "markdown",
   "id": "e64cb19a",
   "metadata": {},
   "source": [
    "### OpenAI Agent Set up"
   ]
  },
  {
   "cell_type": "code",
   "execution_count": null,
   "id": "2199c109",
   "metadata": {},
   "outputs": [],
   "source": [
    "\n",
    "# Configure OpenAI Agent\n",
    "from agents import set_default_openai_key, Agent, Runner, function_tool\n",
    "import json\n",
    "\n",
    "OPENAI_API_KEY=\"sk-...\"\n",
    "set_default_openai_key(OPENAI_API_KEY)\n",
    "\n",
    "# function that call code interpreter to execute code\n",
    "@function_tool\n",
    "async def execute_python(code: str) -> str:\n",
    "    \"\"\"Execute Python code in the sandbox.\"\"\"\n",
    "\n",
    "    code_client.start() # pass in identifier if to use custom code interpreter\n",
    "\n",
    "    response = None\n",
    "    error = None\n",
    "    try:\n",
    "        response = code_client.invoke(\"executeCode\", {\n",
    "            \"language\": \"python\",\n",
    "            \"code\": code\n",
    "        })\n",
    "\n",
    "    except Exception as e:\n",
    "        print(f\"Error executing: {e}\")\n",
    "        error = e\n",
    "\n",
    "    finally:\n",
    "        code_client.stop()\n",
    "\n",
    "    if response == None:\n",
    "        return f\"Error executing: {e}\"\n",
    "    else :\n",
    "        return \"\\n\".join([json.dumps(event[\"result\"], indent=2) for event in response[\"stream\"]])\n",
    "\n",
    "\n",
    "\n",
    "coding_assistant = Agent(\n",
    "    name=\"Code Assitant\",\n",
    "    instructions=\"\"\"\n",
    "You are a helpful AI assistant that validates all answers through code execution.\n",
    "\n",
    "VALIDATION PRINCIPLES:\n",
    "1. When making claims about code, algorithms, or calculations - write code to verify them\n",
    "2. Use execute_python to test mathematical calculations, algorithms, and logic\n",
    "3. Create test scripts to validate your understanding before giving answers\n",
    "4. Always show your work with actual code execution\n",
    "5. If uncertain, explicitly state limitations and validate what you can\n",
    "\n",
    "APPROACH:\n",
    "- If asked about a programming concept, implement it in code to demonstrate\n",
    "- If asked for calculations, compute them programmatically AND show the code\n",
    "- If implementing algorithms, include test cases to prove correctness\n",
    "- Document your validation process for transparency\n",
    "- The sandbox maintains state between executions, so you can refer to previous results\n",
    "\n",
    "TOOL AVAILABLE:\n",
    "- execute_python: Run Python code and see output\n",
    "\n",
    "RESPONSE FORMAT: The execute_python tool returns a JSON response with:\n",
    "- sessionId: The sandbox session ID\n",
    "- id: Request ID\n",
    "- isError: Boolean indicating if there was an error\n",
    "- content: Array of content objects with type and text/data\n",
    "- structuredContent: For code execution, includes stdout, stderr, exitCode, executionTime\n",
    "\n",
    "For successful code execution, the output will be in content[0].text and also in structuredContent.stdout.\n",
    "Check isError field to see if there was an error.\n",
    "\n",
    "Be thorough, accurate, and always validate your answers when possible.\n",
    "    \"\"\",\n",
    "    model=\"gpt-4o-mini\",\n",
    "    tools=[execute_python],\n",
    ")\n"
   ]
  },
  {
   "cell_type": "markdown",
   "id": "cb6ff5df",
   "metadata": {},
   "source": [
    "### Agent Execution"
   ]
  },
  {
   "cell_type": "code",
   "execution_count": 3,
   "id": "3689b05b",
   "metadata": {},
   "outputs": [],
   "source": [
    "result = await Runner.run(coding_assistant, \"\"\"\n",
    "    - Implement a Python function that simulates dice-rolling\n",
    "    - execute the function until 6 is rolled\n",
    "    - calculate and output the probability\n",
    "\"\"\")"
   ]
  },
  {
   "cell_type": "markdown",
   "id": "323d15ac",
   "metadata": {},
   "source": [
    "### Observe Tool Use Result"
   ]
  },
  {
   "cell_type": "code",
   "execution_count": 4,
   "id": "3b2a6fed",
   "metadata": {},
   "outputs": [
    {
     "name": "stdout",
     "output_type": "stream",
     "text": [
      "I implemented a Python function to simulate rolling a die until a 6 is rolled. After running the simulation for 1,000,000 trials, I calculated the probability and the average number of rolls required until a 6 appeared. Here are the results:\n",
      "\n",
      "- **Probability of rolling a 6**: 1.0 (indicating that 6 was rolled in all trials)\n",
      "- **Average number of rolls until first 6**: Approximately 6.01\n",
      "\n",
      "### Explanation of the Code:\n",
      "1. **roll_die()**: Simulates rolling a six-sided die, returning a random integer between 1 and 6.\n",
      "2. **simulate_dice_rolls(trials)**: \n",
      "   - Loops through a set number of trials.\n",
      "   - Rolls the die until a 6 is obtained, counting the number of rolls.\n",
      "   - Records the success of rolling a 6 and calculates the probability.\n",
      "\n",
      "The high probability indicates that in the simulation, a 6 was rolled every time, as expected in a theoretical scenario given enough trials. However, the average number of rolls reflects the expected behavior of the dice.\n",
      "\n",
      "If you have any other requests or questions, feel free to ask!\n"
     ]
    }
   ],
   "source": [
    "print(result.final_output)"
   ]
  },
  {
   "cell_type": "code",
   "execution_count": 5,
   "id": "c3f04213",
   "metadata": {},
   "outputs": [
    {
     "name": "stdout",
     "output_type": "stream",
     "text": [
      "input type: message\n",
      "role: assistant\n",
      "content: [{'annotations': [], 'text': 'I implemented a Python function to simulate rolling a die until a 6 is rolled. After running the simulation for 1,000,000 trials, I calculated the probability and the average number of rolls required until a 6 appeared. Here are the results:\\n\\n- **Probability of rolling a 6**: 1.0 (indicating that 6 was rolled in all trials)\\n- **Average number of rolls until first 6**: Approximately 6.01\\n\\n### Explanation of the Code:\\n1. **roll_die()**: Simulates rolling a six-sided die, returning a random integer between 1 and 6.\\n2. **simulate_dice_rolls(trials)**: \\n   - Loops through a set number of trials.\\n   - Rolls the die until a 6 is obtained, counting the number of rolls.\\n   - Records the success of rolling a 6 and calculates the probability.\\n\\nThe high probability indicates that in the simulation, a 6 was rolled every time, as expected in a theoretical scenario given enough trials. However, the average number of rolls reflects the expected behavior of the dice.\\n\\nIf you have any other requests or questions, feel free to ask!', 'type': 'output_text', 'logprobs': []}]\n",
      "status: completed\n",
      "------------------\n",
      "input type: function_call\n",
      "name: execute_python\n",
      "arguments: {\"code\":\"import random\\n\\n# Function to simulate rolling a die\\ndef roll_die():\\n    return random.randint(1, 6)\\n\\n# Function to simulate rolling until a 6 is rolled and calculate probability\\ndef simulate_dice_rolls(trials):\\n    success_count = 0\\n    rolls_count = 0\\n\\n    for _ in range(trials):\\n        rolls = 0\\n        while True:\\n            rolls += 1\\n            rolls_count += 1\\n            result = roll_die()\\n            if result == 6:\\n                success_count += 1\\n                break\\n\\n    # Calculate probability of rolling a 6\\n    probability = success_count / trials\\n    return probability, rolls_count / trials  # average rolls per trial\\n\\n# Simulate rolling the die until 6 is rolled for a certain number of trials\\ntrials = 1000000  # Number of trials\\nprobability, average_rolls = simulate_dice_rolls(trials)\\nprobability, average_rolls\"}\n",
      "status: completed\n",
      "------------------\n",
      "ModelResponse(output=[ResponseOutputMessage(id='msg_688ec7ce227481a1bdd68191fea3046a074f11311b5da1fc', content=[ResponseOutputText(annotations=[], text='I implemented a Python function to simulate rolling a die until a 6 is rolled. After running the simulation for 1,000,000 trials, I calculated the probability and the average number of rolls required until a 6 appeared. Here are the results:\\n\\n- **Probability of rolling a 6**: 1.0 (indicating that 6 was rolled in all trials)\\n- **Average number of rolls until first 6**: Approximately 6.01\\n\\n### Explanation of the Code:\\n1. **roll_die()**: Simulates rolling a six-sided die, returning a random integer between 1 and 6.\\n2. **simulate_dice_rolls(trials)**: \\n   - Loops through a set number of trials.\\n   - Rolls the die until a 6 is obtained, counting the number of rolls.\\n   - Records the success of rolling a 6 and calculates the probability.\\n\\nThe high probability indicates that in the simulation, a 6 was rolled every time, as expected in a theoretical scenario given enough trials. However, the average number of rolls reflects the expected behavior of the dice.\\n\\nIf you have any other requests or questions, feel free to ask!', type='output_text', logprobs=[])], role='assistant', status='completed', type='message')], usage=Usage(requests=1, input_tokens=714, input_tokens_details=InputTokensDetails(cached_tokens=0), output_tokens=244, output_tokens_details=OutputTokensDetails(reasoning_tokens=0), total_tokens=958), response_id='resp_688ec7cdd90481a1960e52b0bd0d494c074f11311b5da1fc')\n"
     ]
    }
   ],
   "source": [
    "# tool uses\n",
    "raw = result.raw_responses\n",
    "for response in raw:\n",
    "    inputs = response.to_input_items()\n",
    "    for input in inputs:\n",
    "        print(f\"input type: {input[\"type\"]}\")\n",
    "\n",
    "        if input[\"type\"] == \"function_call\":\n",
    "            print(f\"name: {input[\"name\"]}\")\n",
    "            print(f\"arguments: {input[\"arguments\"]}\")\n",
    "            print(f\"status: {input[\"status\"]}\")\n",
    "\n",
    "\n",
    "        if input[\"type\"] == \"function_call_output\":\n",
    "            print(f\"output: {input[\"output\"]}\")\n",
    "            print(f\"status: {input[\"status\"]}\")\n",
    "\n",
    "        if input[\"type\"] == \"message\":\n",
    "            print(f\"role: {input[\"role\"]}\")\n",
    "            print(f\"content: {input[\"content\"]}\")\n",
    "            print(f\"status: {input[\"status\"]}\")\n",
    "\n",
    "\n",
    "        print(\"------------------\")"
   ]
  }
 ],
 "metadata": {
  "kernelspec": {
   "display_name": ".venv",
   "language": "python",
   "name": "python3"
  },
  "language_info": {
   "codemirror_mode": {
    "name": "ipython",
    "version": 3
   },
   "file_extension": ".py",
   "mimetype": "text/x-python",
   "name": "python",
   "nbconvert_exporter": "python",
   "pygments_lexer": "ipython3",
   "version": "3.12.11"
  }
 },
 "nbformat": 4,
 "nbformat_minor": 5
}
