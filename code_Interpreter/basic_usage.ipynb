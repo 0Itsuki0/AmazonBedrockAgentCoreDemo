{
 "cells": [
  {
   "cell_type": "markdown",
   "id": "5432ced2",
   "metadata": {},
   "source": [
    "# Basic Usage\n",
    "\n",
    "Available methods: \n",
    "<br>\n",
    "\n",
    "Code: \n",
    "- `executeCode`\n",
    "\n",
    "Terminal Command: \n",
    "- `executeCommand`\n",
    "- `startCommandExecution`\n",
    "- `getTask`\n",
    "- `stopTask`\n",
    "\n",
    "File Management: \n",
    "- `writeFiles`\n",
    "- `listFiles`\n",
    "- `readFiles`\n",
    "- `removeFiles`"
   ]
  },
  {
   "cell_type": "code",
   "execution_count": 1,
   "id": "cd7561f7",
   "metadata": {},
   "outputs": [],
   "source": [
    "from bedrock_agentcore.tools.code_interpreter_client import CodeInterpreter\n",
    "import json\n",
    "\n",
    "code_client = CodeInterpreter('us-east-1')\n"
   ]
  },
  {
   "cell_type": "markdown",
   "id": "aca96e89",
   "metadata": {},
   "source": [
    "## Run Code"
   ]
  },
  {
   "cell_type": "code",
   "execution_count": 2,
   "id": "c1ef3da0",
   "metadata": {},
   "outputs": [
    {
     "name": "stdout",
     "output_type": "stream",
     "text": [
      "session started: 01K1PPWYE373Z99SS2A8ABW0TX\n",
      "{\n",
      "  \"content\": [\n",
      "    {\n",
      "      \"type\": \"text\",\n",
      "      \"text\": \"Hello World!!!\"\n",
      "    }\n",
      "  ],\n",
      "  \"structuredContent\": {\n",
      "    \"stdout\": \"Hello World!!!\",\n",
      "    \"stderr\": \"\",\n",
      "    \"exitCode\": 0,\n",
      "    \"executionTime\": 0.014868497848510742\n",
      "  },\n",
      "  \"isError\": false\n",
      "}\n"
     ]
    }
   ],
   "source": [
    "\n",
    "language = \"python\"\n",
    "code_to_execute = \"\"\"\n",
    "print(\"Hello World!!!\")\n",
    "\"\"\"\n",
    "\n",
    "# Configure and Start the code interpreter session\n",
    "session_id = code_client.start(\n",
    "    # identifier=\"some_identifier\", # The code interpreter sandbox identifier to use. default: \"aws.codeinterpreter.v1\"\n",
    "    # name= None, # A name for this session. If not provided, a name will be generated using a UUID.\n",
    "    # session_timeout_seconds=100 #  The timeout for the session in seconds. Default to 900.\n",
    ")\n",
    "print(f\"session started: {session_id}\")\n",
    "\n",
    "\n",
    "# if code_client.start is not called, the `invoke` function will call `start` internally\n",
    "response = code_client.invoke(\"executeCode\", {\n",
    "    \"language\": language,\n",
    "    \"code\": code_to_execute\n",
    "})\n",
    "\n",
    "# Process and print the response\n",
    "for event in response[\"stream\"]:\n",
    "    print(json.dumps(event[\"result\"], indent=2))\n",
    "\n",
    "# Clean up and stop the code interpreter session\n",
    "code_client.stop()\n"
   ]
  },
  {
   "cell_type": "markdown",
   "id": "5e68d846",
   "metadata": {},
   "source": [
    "## Run Terminal Command"
   ]
  },
  {
   "cell_type": "markdown",
   "id": "74fcfdac",
   "metadata": {},
   "source": [
    "For example, we can create a custom Code Interpreter tool with an execution role to upload/download files from Amazon S3. This allows your code to interact with S3 buckets for storing and retrieving data.\n",
    "\n",
    "https://docs.aws.amazon.com/bedrock-agentcore/latest/devguide/code-interpreter-s3-integration.html\n"
   ]
  },
  {
   "cell_type": "markdown",
   "id": "1051de83",
   "metadata": {},
   "source": [
    "#### Execute Command\n",
    "\n",
    "Wait for completion before returning.\n"
   ]
  },
  {
   "cell_type": "code",
   "execution_count": 3,
   "id": "9652e9d3",
   "metadata": {},
   "outputs": [
    {
     "name": "stdout",
     "output_type": "stream",
     "text": [
      "{\n",
      "  \"content\": [\n",
      "    {\n",
      "      \"type\": \"text\",\n",
      "      \"text\": \"Hello world!\\r\\n\"\n",
      "    }\n",
      "  ],\n",
      "  \"structuredContent\": {\n",
      "    \"stdout\": \"Hello world!\\r\\n\",\n",
      "    \"stderr\": \"\",\n",
      "    \"exitCode\": 0,\n",
      "    \"executionTime\": 0.004979133605957031\n",
      "  },\n",
      "  \"isError\": false\n",
      "}\n"
     ]
    }
   ],
   "source": [
    "session_id = code_client.start()\n",
    "command_to_execute = \"echo 'Hello world!'\"\n",
    "response = code_client.invoke(\"executeCommand\", {\n",
    "    \"command\": command_to_execute,\n",
    "})\n",
    "for event in response[\"stream\"]:\n",
    "    print(json.dumps(event[\"result\"], indent=2))\n",
    "\n",
    "code_client.stop()"
   ]
  },
  {
   "cell_type": "markdown",
   "id": "8a888f7a",
   "metadata": {},
   "source": [
    "#### Start Command Execution"
   ]
  },
  {
   "cell_type": "code",
   "execution_count": 5,
   "id": "fa1b8db8",
   "metadata": {},
   "outputs": [
    {
     "name": "stdout",
     "output_type": "stream",
     "text": [
      "{\n",
      "  \"content\": [\n",
      "    {\n",
      "      \"type\": \"text\",\n",
      "      \"text\": \"Successfully started a command execution task\"\n",
      "    }\n",
      "  ],\n",
      "  \"structuredContent\": {\n",
      "    \"taskId\": \"570c94a7-db4a-4b6e-ad7d-45fc722a3aee\",\n",
      "    \"taskStatus\": \"submitted\",\n",
      "    \"stdout\": \"\",\n",
      "    \"stderr\": \"\"\n",
      "  },\n",
      "  \"isError\": false\n",
      "}\n"
     ]
    }
   ],
   "source": [
    "session_id = code_client.start()\n",
    "command_to_execute = \"sleep 30 && echo complete\"\n",
    "response = code_client.invoke(\"startCommandExecution\", {\n",
    "    \"command\": command_to_execute,\n",
    "})\n",
    "\n",
    "task_id = \"\"\n",
    "for event in response[\"stream\"]:\n",
    "    print(json.dumps(event[\"result\"], indent=2))\n",
    "    task_id = event[\"result\"][\"structuredContent\"][\"taskId\"]\n",
    "\n",
    "# Not stopping the client yet\n"
   ]
  },
  {
   "cell_type": "markdown",
   "id": "e41190d4",
   "metadata": {},
   "source": [
    "#### Get Execution task\n",
    "\n",
    "possible task status: 'submitted'|'working'|'completed'|'canceled'|'failed'"
   ]
  },
  {
   "cell_type": "code",
   "execution_count": 6,
   "id": "e465d9fb",
   "metadata": {},
   "outputs": [
    {
     "name": "stdout",
     "output_type": "stream",
     "text": [
      "{\n",
      "  \"content\": [\n",
      "    {\n",
      "      \"type\": \"text\",\n",
      "      \"text\": \"Task is working\"\n",
      "    }\n",
      "  ],\n",
      "  \"structuredContent\": {\n",
      "    \"taskStatus\": \"working\",\n",
      "    \"stdout\": \"\",\n",
      "    \"stderr\": \"\"\n",
      "  },\n",
      "  \"isError\": false\n",
      "}\n"
     ]
    }
   ],
   "source": [
    "# use the same session as above\n",
    "response = code_client.invoke(\"getTask\", {\n",
    "    \"taskId\": task_id,\n",
    "})\n",
    "for event in response[\"stream\"]:\n",
    "    print(json.dumps(event[\"result\"], indent=2))"
   ]
  },
  {
   "cell_type": "markdown",
   "id": "956cf1da",
   "metadata": {},
   "source": [
    "#### Stop Execution Task"
   ]
  },
  {
   "cell_type": "code",
   "execution_count": 7,
   "id": "42b46686",
   "metadata": {},
   "outputs": [
    {
     "name": "stdout",
     "output_type": "stream",
     "text": [
      "{\n",
      "  \"content\": [\n",
      "    {\n",
      "      \"type\": \"text\",\n",
      "      \"text\": \"Successfully canceled a command execution task\"\n",
      "    }\n",
      "  ],\n",
      "  \"isError\": false\n",
      "}\n"
     ]
    }
   ],
   "source": [
    "# use the same session as above\n",
    "response = code_client.invoke(\"stopTask\", {\n",
    "    \"taskId\": task_id,\n",
    "})\n",
    "for event in response[\"stream\"]:\n",
    "    print(json.dumps(event[\"result\"], indent=2))\n",
    "\n",
    "code_client.stop()"
   ]
  },
  {
   "cell_type": "markdown",
   "id": "d016c6f0",
   "metadata": {},
   "source": [
    "## File Management"
   ]
  },
  {
   "cell_type": "code",
   "execution_count": 8,
   "id": "20df6c14",
   "metadata": {},
   "outputs": [],
   "source": [
    "# Some data Contents and code contents\n",
    "data_file_content = \"pikachu\"\n",
    "data_file_path = \"data.txt\"\n",
    "\n",
    "# code with relative path\n",
    "code_file_content = f\"\"\"\n",
    "try:\n",
    "    with open('{data_file_path}', 'r', encoding='utf-8') as content:\n",
    "        content = content.read()\n",
    "        print(content)\n",
    "except FileNotFoundError:\n",
    "    print(f\"Error: The file '{data_file_path}' was not found.\")\n",
    "except Exception as e:\n",
    "    print(f\"An error occurred: {{e}}\")\n",
    "\"\"\"\n",
    "\n",
    "code_file_path = \"code.py\""
   ]
  },
  {
   "cell_type": "markdown",
   "id": "acaf7177",
   "metadata": {},
   "source": [
    "#### Write (Create)\n",
    "upload files to the Code Interpreter session"
   ]
  },
  {
   "cell_type": "code",
   "execution_count": 9,
   "id": "fe2e49d0",
   "metadata": {},
   "outputs": [
    {
     "name": "stdout",
     "output_type": "stream",
     "text": [
      "{\n",
      "  \"content\": [\n",
      "    {\n",
      "      \"type\": \"text\",\n",
      "      \"text\": \"Successfully wrote all 2 files\"\n",
      "    }\n",
      "  ],\n",
      "  \"isError\": false\n",
      "}\n"
     ]
    }
   ],
   "source": [
    "files_to_create = [\n",
    "    {\n",
    "        \"path\": data_file_path,\n",
    "        \"text\": data_file_content\n",
    "    },\n",
    "    {\n",
    "        \"path\": code_file_path,\n",
    "        \"text\": code_file_content\n",
    "    }\n",
    "]\n",
    "\n",
    "session_id = code_client.start()\n",
    "response = code_client.invoke(\"writeFiles\", {\n",
    "    \"content\": files_to_create,\n",
    "})\n",
    "for event in response[\"stream\"]:\n",
    "    print(json.dumps(event[\"result\"], indent=2))\n",
    "\n",
    "# NOT stopping the client yet!"
   ]
  },
  {
   "cell_type": "markdown",
   "id": "ee599330",
   "metadata": {},
   "source": [
    "#### Use Files\n",
    "\n",
    "Run the code above that uses relative path"
   ]
  },
  {
   "cell_type": "code",
   "execution_count": 10,
   "id": "7b89dce2",
   "metadata": {},
   "outputs": [
    {
     "name": "stdout",
     "output_type": "stream",
     "text": [
      "{\n",
      "  \"content\": [\n",
      "    {\n",
      "      \"type\": \"text\",\n",
      "      \"text\": \"pikachu\"\n",
      "    }\n",
      "  ],\n",
      "  \"structuredContent\": {\n",
      "    \"stdout\": \"pikachu\",\n",
      "    \"stderr\": \"\",\n",
      "    \"exitCode\": 0,\n",
      "    \"executionTime\": 0.01548624038696289\n",
      "  },\n",
      "  \"isError\": false\n",
      "}\n"
     ]
    }
   ],
   "source": [
    "response = code_client.invoke(\"executeCode\", {\n",
    "    \"language\": \"python\",\n",
    "    \"code\": code_file_content\n",
    "})\n",
    "for event in response[\"stream\"]:\n",
    "    print(json.dumps(event[\"result\"], indent=2))"
   ]
  },
  {
   "cell_type": "markdown",
   "id": "8fe139af",
   "metadata": {},
   "source": [
    "#### List files"
   ]
  },
  {
   "cell_type": "code",
   "execution_count": null,
   "id": "16dc57e3",
   "metadata": {},
   "outputs": [
    {
     "name": "stdout",
     "output_type": "stream",
     "text": [
      "{\n",
      "  \"content\": [\n",
      "    {\n",
      "      \"type\": \"resource_link\",\n",
      "      \"uri\": \"file:///log\",\n",
      "      \"name\": \"log\",\n",
      "      \"description\": \"Directory\"\n",
      "    },\n",
      "    {\n",
      "      \"type\": \"resource_link\",\n",
      "      \"mimeType\": \"text/plain\",\n",
      "      \"uri\": \"file:///data.txt\",\n",
      "      \"name\": \"data.txt\",\n",
      "      \"description\": \"File\"\n",
      "    },\n",
      "    {\n",
      "      \"type\": \"resource_link\",\n",
      "      \"uri\": \"file:///.ipython\",\n",
      "      \"name\": \".ipython\",\n",
      "      \"description\": \"Directory\"\n",
      "    },\n",
      "    {\n",
      "      \"type\": \"resource_link\",\n",
      "      \"mimeType\": \"text/x-python\",\n",
      "      \"uri\": \"file:///code.py\",\n",
      "      \"name\": \"code.py\",\n",
      "      \"description\": \"File\"\n",
      "    }\n",
      "  ],\n",
      "  \"isError\": false\n",
      "}\n"
     ]
    }
   ],
   "source": [
    "# use the session from above\n",
    "response = code_client.invoke(\"listFiles\", {\n",
    "    \"path\": \"\", # root\n",
    "})\n",
    "for event in response[\"stream\"]:\n",
    "    print(json.dumps(event[\"result\"], indent=2))\n"
   ]
  },
  {
   "cell_type": "markdown",
   "id": "d26b6a5a",
   "metadata": {},
   "source": [
    "#### Read Files"
   ]
  },
  {
   "cell_type": "code",
   "execution_count": 12,
   "id": "6159682c",
   "metadata": {},
   "outputs": [
    {
     "name": "stdout",
     "output_type": "stream",
     "text": [
      "{\n",
      "  \"content\": [\n",
      "    {\n",
      "      \"type\": \"resource\",\n",
      "      \"resource\": {\n",
      "        \"uri\": \"file:///data.txt\",\n",
      "        \"mimeType\": \"text/plain\",\n",
      "        \"text\": \"pikachu\"\n",
      "      }\n",
      "    }\n",
      "  ],\n",
      "  \"isError\": false\n",
      "}\n"
     ]
    }
   ],
   "source": [
    "response = code_client.invoke(\"readFiles\", {\n",
    "    \"paths\": [data_file_path],\n",
    "})\n",
    "for event in response[\"stream\"]:\n",
    "    print(json.dumps(event[\"result\"], indent=2))\n"
   ]
  },
  {
   "cell_type": "markdown",
   "id": "a86a6da8",
   "metadata": {},
   "source": [
    "#### Remove Files"
   ]
  },
  {
   "cell_type": "code",
   "execution_count": 13,
   "id": "e3634542",
   "metadata": {},
   "outputs": [
    {
     "name": "stdout",
     "output_type": "stream",
     "text": [
      "{\n",
      "  \"content\": [\n",
      "    {\n",
      "      \"type\": \"text\",\n",
      "      \"text\": \"Successfully removed all 2 files\"\n",
      "    }\n",
      "  ],\n",
      "  \"isError\": false\n",
      "}\n"
     ]
    }
   ],
   "source": [
    "response = code_client.invoke(\"removeFiles\", {\n",
    "    \"paths\": [code_file_path, data_file_path],\n",
    "})\n",
    "for event in response[\"stream\"]:\n",
    "    print(json.dumps(event[\"result\"], indent=2))\n",
    "\n",
    "# stop the session after finish\n",
    "code_client.stop()"
   ]
  }
 ],
 "metadata": {
  "kernelspec": {
   "display_name": ".venv",
   "language": "python",
   "name": "python3"
  },
  "language_info": {
   "codemirror_mode": {
    "name": "ipython",
    "version": 3
   },
   "file_extension": ".py",
   "mimetype": "text/x-python",
   "name": "python",
   "nbconvert_exporter": "python",
   "pygments_lexer": "ipython3",
   "version": "3.12.11"
  }
 },
 "nbformat": 4,
 "nbformat_minor": 5
}
