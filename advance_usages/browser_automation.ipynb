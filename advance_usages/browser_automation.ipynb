{
 "cells": [
  {
   "cell_type": "markdown",
   "id": "05b08854",
   "metadata": {},
   "source": [
    "# Code Interpreter + Browser tool to automate web interactions\n",
    "\n",
    "Automates browser tasks starting from a given URL based on natural language instructions.\n",
    "(A Simple Nova Alternative)\n",
    "\n",
    "Basic Flow:\n",
    "1. Create a custom `Agent Core Code Interpreter` with Access to `Agent Core Browser`\n",
    "1. Have an AI/Agent generate code to run on a `Playwright Page` Object based on natural language\n",
    "2. Run the code in the `Code Interpreter` which will invoke the `Agent Core Browser` to interact with the website \n",
    "\n",
    "For more details, please refer to my article: [Bedrock AgentCore Code Interpreter + Browser. A Simple Nova-Act Alternative?](https://medium.com/@itsuki.enjoy/bedrock-agentcore-code-interpreter-browser-a-simple-nova-act-alternative-e8ab00348159)"
   ]
  },
  {
   "cell_type": "code",
   "execution_count": null,
   "id": "95fd798b",
   "metadata": {},
   "outputs": [],
   "source": [
    "import json\n",
    "import boto3\n",
    "from bedrock_agentcore.tools.code_interpreter_client import CodeInterpreter\n",
    "from agents import set_default_openai_key, Agent, Runner, function_tool\n",
    "\n",
    "OPENAI_API_KEY=\"sk-...\"\n",
    "set_default_openai_key(OPENAI_API_KEY)\n",
    "\n",
    "code_client = CodeInterpreter('us-east-1')\n",
    "region=\"us-east-1\"\n",
    "role_name = \"InterpreterBrowserExecutionRole\"\n",
    "policy_name = \"BedrockAgentCoreBrowserSessionAccess\"\n"
   ]
  },
  {
   "cell_type": "markdown",
   "id": "67fbd5e4",
   "metadata": {},
   "source": [
    "## Code Interpreter Execution Role\n",
    "\n",
    "Permission to bedrock-agentcore (at least browser-related actions) is required."
   ]
  },
  {
   "cell_type": "code",
   "execution_count": 16,
   "id": "ebfd42c5",
   "metadata": {},
   "outputs": [
    {
     "name": "stdout",
     "output_type": "stream",
     "text": [
      "role created: arn:aws:iam::075198889659:role/InterpreterBrowserExecutionRole\n"
     ]
    },
    {
     "data": {
      "text/plain": [
       "{'ResponseMetadata': {'RequestId': 'c631931a-7177-42fb-891a-4525fbb14855',\n",
       "  'HTTPStatusCode': 200,\n",
       "  'HTTPHeaders': {'date': 'Wed, 06 Aug 2025 04:53:45 GMT',\n",
       "   'x-amzn-requestid': 'c631931a-7177-42fb-891a-4525fbb14855',\n",
       "   'content-type': 'text/xml',\n",
       "   'content-length': '206'},\n",
       "  'RetryAttempts': 0}}"
      ]
     },
     "execution_count": 16,
     "metadata": {},
     "output_type": "execute_result"
    }
   ],
   "source": [
    "iam_client = boto3.client('iam')\n",
    "\n",
    "# code interpreter Execution role\n",
    "response = iam_client.create_role(\n",
    "    RoleName=role_name,\n",
    "    AssumeRolePolicyDocument=json.dumps({\n",
    "        \"Version\": \"2012-10-17\",\n",
    "        \"Statement\": [\n",
    "            {\n",
    "                \"Effect\": \"Allow\",\n",
    "                \"Principal\": {\n",
    "                    \"Service\": \"bedrock-agentcore.amazonaws.com\"\n",
    "                },\n",
    "                \"Action\": \"sts:AssumeRole\"\n",
    "            }\n",
    "        ]\n",
    "    }),\n",
    ")\n",
    "role_arn = response[\"Role\"][\"Arn\"]\n",
    "print(f\"role created: {role_arn}\")\n",
    "\n",
    "# Add policy to browser\n",
    "iam_client.put_role_policy(\n",
    "    RoleName=role_name,\n",
    "    PolicyName=policy_name,\n",
    "    PolicyDocument=json.dumps({\n",
    "        \"Version\": \"2012-10-17\",\n",
    "        \"Statement\": [\n",
    "            {\n",
    "                \"Effect\": \"Allow\",\n",
    "                \"Action\": [\n",
    "                    \"bedrock-agentcore:*\",\n",
    "                ],\n",
    "                \"Resource\": \"*\"\n",
    "            }\n",
    "        ]\n",
    "    })\n",
    ")"
   ]
  },
  {
   "cell_type": "markdown",
   "id": "b8a39b45",
   "metadata": {},
   "source": [
    "## Create custom code interpreter and browser\n",
    "\n",
    "Code interpreter has to be `PUBLIC` to be able to install necessary libraries and invoke other AWS Resources.\n",
    "\n",
    "Custom Browser is optional."
   ]
  },
  {
   "cell_type": "code",
   "execution_count": null,
   "id": "53dac857",
   "metadata": {},
   "outputs": [
    {
     "name": "stdout",
     "output_type": "stream",
     "text": [
      "code interpreter created: code_interpreter_with_browser_access-U6cWG0lc5e\n",
      "browser created: browser_tool_for_code_interpreter-hKMZcxkUfS\n"
     ]
    }
   ],
   "source": [
    "control_client = boto3.client(\n",
    "    'bedrock-agentcore-control',\n",
    "    region_name=region,\n",
    "    endpoint_url=f\"https://bedrock-agentcore-control.{region}.amazonaws.com\"\n",
    ")\n",
    "\n",
    "# Code interpreter\n",
    "# might need to wait for couple seconds for the role to get ready\n",
    "response = control_client.create_code_interpreter(\n",
    "    name=\"code_interpreter_with_browser_access\",\n",
    "    executionRoleArn=role_arn,\n",
    "    networkConfiguration={\n",
    "        \"networkMode\": \"PUBLIC\" # allow agent to operate in a public environment and have internet access\n",
    "    }\n",
    ")\n",
    "code_interpreter_id = response[\"codeInterpreterId\"]\n",
    "print(f\"code interpreter created: {code_interpreter_id}\")\n",
    "\n",
    "response = control_client.create_browser(\n",
    "    name=\"browser_tool_for_code_interpreter\",\n",
    "    networkConfiguration={\n",
    "        \"networkMode\": \"PUBLIC\" # required to access any aws resources other than s3\n",
    "    },\n",
    ")\n",
    "browser_id = response[\"browserId\"]\n",
    "print(f\"browser created: {browser_id}\")"
   ]
  },
  {
   "cell_type": "markdown",
   "id": "e8e38f8b",
   "metadata": {},
   "source": [
    "## Agent Configuration"
   ]
  },
  {
   "cell_type": "markdown",
   "id": "13f1429d",
   "metadata": {},
   "source": [
    "### Define Function Tool For Browser Automation"
   ]
  },
  {
   "cell_type": "code",
   "execution_count": 19,
   "id": "7fb6e4c3",
   "metadata": {},
   "outputs": [],
   "source": [
    "@function_tool\n",
    "def browser_automation_tool(starting_url: str, code: str) -> str:\n",
    "    \"\"\"\n",
    "    Automates browser tasks starting from a given URL with the code to execute on a Playwright `Page` object.\n",
    "\n",
    "    Args:\n",
    "        starting_url (str): The initial URL to open in the browser.\n",
    "        code (str): Python Code to execute on the Playwright `Page` object in an asynchronous context.\n",
    "\n",
    "    Returns:\n",
    "        str: The result of the code execution.\n",
    "\n",
    "    Example:\n",
    "        If user wants to get the title for a website, the input should be the following.\n",
    "        - starting_url: site's url\n",
    "        - code:\n",
    "        ```\n",
    "        print(f\"title: {await page.title()}\")\n",
    "        ```\n",
    "    \"\"\"\n",
    "\n",
    "    code_client.start(\n",
    "        identifier=code_interpreter_id,\n",
    "        session_timeout_seconds=3600\n",
    "    )\n",
    "    code_client.invoke(\"executeCommand\", {\n",
    "        \"command\": \"pip install boto3 playwright bedrock_agentcore\",\n",
    "    })\n",
    "\n",
    "    response = None\n",
    "    error = None\n",
    "    try:\n",
    "        response = code_client.invoke(\"executeCode\", {\n",
    "            \"language\": \"python\",\n",
    "    \"code\": f\"\"\"\n",
    "from bedrock_agentcore.tools.browser_client import BrowserClient\n",
    "from playwright.async_api import async_playwright, BrowserType\n",
    "import base64\n",
    "\n",
    "browser_client = BrowserClient(region='{region}')\n",
    "session_id = browser_client.start(\n",
    "    identifier='{browser_id}'\n",
    ")\n",
    "ws_url, headers = browser_client.generate_ws_headers()\n",
    "\n",
    "async with async_playwright() as playwright:\n",
    "    chromium: BrowserType = playwright.chromium\n",
    "    browser = await chromium.connect_over_cdp(\n",
    "        endpoint_url=ws_url,\n",
    "        headers=headers\n",
    "    )\n",
    "    page = await browser.new_page()\n",
    "\n",
    "    try:\n",
    "        await page.goto(f\"{starting_url}\")\n",
    "        {code}\n",
    "\n",
    "    except Exception as e:\n",
    "        print(f\"Error running page command: {{e}}\")\n",
    "\n",
    "    finally:\n",
    "        await page.close()\n",
    "        await browser.close()\n",
    "        browser_client.stop()\n",
    "    \"\"\"\n",
    "        })\n",
    "\n",
    "    except Exception as e:\n",
    "        print(f\"Error executing: {e}\")\n",
    "        error = e\n",
    "\n",
    "    finally:\n",
    "        code_client.stop()\n",
    "\n",
    "    if response == None:\n",
    "        return f\"Error executing: {error}\"\n",
    "    else :\n",
    "        return \"\\n\".join([json.dumps(event[\"result\"], indent=2) for event in response[\"stream\"]])\n"
   ]
  },
  {
   "cell_type": "markdown",
   "id": "11385eea",
   "metadata": {},
   "source": [
    "##### Function Tool Test"
   ]
  },
  {
   "cell_type": "code",
   "execution_count": 20,
   "id": "2ab30416",
   "metadata": {},
   "outputs": [
    {
     "name": "stdout",
     "output_type": "stream",
     "text": [
      "{\n",
      "  \"content\": [\n",
      "    {\n",
      "      \"type\": \"text\",\n",
      "      \"text\": \"title: Itsuki \\u2013 Medium\"\n",
      "    }\n",
      "  ],\n",
      "  \"structuredContent\": {\n",
      "    \"stdout\": \"title: Itsuki \\u2013 Medium\",\n",
      "    \"stderr\": \"\",\n",
      "    \"exitCode\": 0,\n",
      "    \"executionTime\": 8.789749145507812\n",
      "  },\n",
      "  \"isError\": false\n",
      "}\n"
     ]
    }
   ],
   "source": [
    "url = \"https://medium.com/@itsuki.enjoy\"\n",
    "code = \"\"\"print(f\"title: {await page.title()}\")\"\"\"\n",
    "argument = {\n",
    "    \"starting_url\": \"https://medium.com/@itsuki.enjoy\",\n",
    "    \"code\": \"\"\"print(f\"title: {await page.title()}\")\"\"\"\n",
    "}\n",
    "result = await browser_automation_tool.on_invoke_tool(None, json.dumps(argument))\n",
    "print(result)\n"
   ]
  },
  {
   "cell_type": "markdown",
   "id": "c80ff011",
   "metadata": {},
   "source": [
    "### Define Agent"
   ]
  },
  {
   "cell_type": "code",
   "execution_count": null,
   "id": "ebc1a8d6",
   "metadata": {},
   "outputs": [],
   "source": [
    "browser_assistant = Agent(\n",
    "    name=\"Browser Assitant\",\n",
    "    instructions=\"\"\"\n",
    "You are a helpful AI assistant that helps user to perform browser tasks using `browser_automation_tool` based on natural language instructions.\n",
    "\n",
    "Your job is to convert the natural language instructions to *PYTHON* code that will be executed asynchronously on a Playwright `Page` object (variable name: `page`).\n",
    "- For information you would like to get back from the code execution, use the `print` statement.\n",
    "- If the user ask for data-based information, for example, an image, convert the bytes/buffer to base64 string and print it out.\n",
    "\n",
    "\n",
    "Following libraries are imported by default:\n",
    "- base64\n",
    "- async_playwright, BrowserType from playwright.async_api\n",
    "If you are using other SDKs, make sure to import those inline as necessary.\n",
    "\n",
    "\n",
    "For Example, if the user ask you to get the title and a screenshot of the website `https://medium.com/@itsuki.enjoy`, your input to the function should be:\n",
    "- `starting_url`: `https://medium.com/@itsuki.enjoy`\n",
    "- `code`: `print(f\"title: {await page.title()}\");screenshot_bytes = await page.screenshot();print(base64.b64encode(screenshot_bytes).decode())`\n",
    "\n",
    "Important Points to pay attention to:\n",
    "- the indentation of the code.\n",
    "- CSS.escape the characters when using query selectors\n",
    "- If you are getting an error while using the tool, adjust the code based on the error and retry again.\n",
    "    \"\"\",\n",
    "    model=\"gpt-4o-mini\",\n",
    "    tools=[browser_automation_tool],\n",
    ")"
   ]
  },
  {
   "cell_type": "markdown",
   "id": "8048e9a6",
   "metadata": {},
   "source": [
    "### Execution Example"
   ]
  },
  {
   "cell_type": "code",
   "execution_count": 23,
   "id": "e719a341",
   "metadata": {},
   "outputs": [],
   "source": [
    "result = await Runner.run(browser_assistant, \"\"\"\n",
    "Get the top 1 current market gainer from Yahoo Finance.\n",
    "\"\"\", max_turns=20)"
   ]
  },
  {
   "cell_type": "code",
   "execution_count": 24,
   "id": "b618c64d",
   "metadata": {},
   "outputs": [
    {
     "name": "stdout",
     "output_type": "stream",
     "text": [
      "The top current market gainer from Yahoo Finance is:\n",
      "\n",
      "**Symbol:** XMTR  \n",
      "**Company:** Xometry, Inc.  \n",
      "**Current Price:** $44.28  \n",
      "**Change:** +$13.31 (+42.98%)  \n",
      "**Market Cap:** 2.24B  \n",
      "**Volume:** 745,880  \n",
      "**Previous Close:** --  \n",
      "**Percentage Change:** +288.76%  \n"
     ]
    }
   ],
   "source": [
    "print(result.final_output)"
   ]
  },
  {
   "cell_type": "code",
   "execution_count": 25,
   "id": "59241e5b",
   "metadata": {},
   "outputs": [
    {
     "name": "stdout",
     "output_type": "stream",
     "text": [
      "input type: function_call\n",
      "name: browser_automation_tool\n",
      "arguments: {\"starting_url\":\"https://finance.yahoo.com/gainers\",\"code\":\"await page.wait_for_timeout(2000);top_gainer = await page.query_selector('table tbody tr:first-child');gainer_data = await top_gainer.inner_text();print(gainer_data)\"}\n",
      "status: completed\n",
      "------------------\n",
      "input type: message\n",
      "role: assistant\n",
      "content: [{'annotations': [], 'text': 'The top current market gainer from Yahoo Finance is:\\n\\n**Symbol:** XMTR  \\n**Company:** Xometry, Inc.  \\n**Current Price:** $44.28  \\n**Change:** +$13.31 (+42.98%)  \\n**Market Cap:** 2.24B  \\n**Volume:** 745,880  \\n**Previous Close:** --  \\n**Percentage Change:** +288.76%  ', 'type': 'output_text', 'logprobs': []}]\n",
      "status: completed\n",
      "------------------\n"
     ]
    }
   ],
   "source": [
    "# tool uses\n",
    "raw = result.raw_responses\n",
    "for response in raw:\n",
    "    inputs = response.to_input_items()\n",
    "    for input in inputs:\n",
    "        print(f\"input type: {input[\"type\"]}\")\n",
    "\n",
    "        if input[\"type\"] == \"function_call\":\n",
    "            print(f\"name: {input[\"name\"]}\")\n",
    "            print(f\"arguments: {input[\"arguments\"]}\")\n",
    "            print(f\"status: {input[\"status\"]}\")\n",
    "\n",
    "\n",
    "        if input[\"type\"] == \"function_call_output\":\n",
    "            print(f\"output: {input[\"output\"]}\")\n",
    "            print(f\"status: {input[\"status\"]}\")\n",
    "\n",
    "        if input[\"type\"] == \"message\":\n",
    "            print(f\"role: {input[\"role\"]}\")\n",
    "            print(f\"content: {input[\"content\"]}\")\n",
    "            print(f\"status: {input[\"status\"]}\")\n",
    "\n",
    "\n",
    "        print(\"------------------\")"
   ]
  },
  {
   "cell_type": "markdown",
   "id": "57e0999e",
   "metadata": {},
   "source": [
    "## Clean Up"
   ]
  },
  {
   "cell_type": "code",
   "execution_count": 26,
   "id": "6a55b768",
   "metadata": {},
   "outputs": [
    {
     "name": "stdout",
     "output_type": "stream",
     "text": [
      "Deleted!\n"
     ]
    }
   ],
   "source": [
    "agent_core = boto3.client(\n",
    "    'bedrock-agentcore',\n",
    "    region_name=region,\n",
    "    endpoint_url=f\"https://bedrock-agentcore.{region}.amazonaws.com\"\n",
    ")\n",
    "\n",
    "# Code interpreter\n",
    "response = agent_core.list_code_interpreter_sessions(\n",
    "    codeInterpreterIdentifier=code_interpreter_id,\n",
    "    status=\"READY\" # 'READY'|'TERMINATED'\n",
    ")\n",
    "\n",
    "# stop all the running sessions\n",
    "for item in response[\"items\"]:\n",
    "    agent_core.stop_code_interpreter_session(\n",
    "        codeInterpreterIdentifier=code_interpreter_id,\n",
    "        sessionId=item[\"sessionId\"]\n",
    "    )\n",
    "\n",
    "_ = control_client.delete_code_interpreter(\n",
    "    codeInterpreterId = code_interpreter_id\n",
    ")\n",
    "\n",
    "# Browser\n",
    "response = agent_core.list_browser_sessions(\n",
    "    browserIdentifier=browser_id,\n",
    "    status=\"READY\" # 'READY'|'TERMINATED'\n",
    ")\n",
    "\n",
    "# stop all the running sessions\n",
    "for item in response[\"items\"]:\n",
    "    agent_core.stop_browser_session(\n",
    "        browserIdentifier=browser_id,\n",
    "        sessionId=item[\"sessionId\"]\n",
    "    )\n",
    "\n",
    "_ = control_client.delete_browser(\n",
    "    browserId = browser_id\n",
    ")\n",
    "\n",
    "# delete role policy and role\n",
    "iam_client.delete_role_policy(\n",
    "    RoleName=role_name,\n",
    "    PolicyName=policy_name\n",
    ")\n",
    "\n",
    "iam_client.delete_role(\n",
    "    RoleName = role_name\n",
    ")\n",
    "print(\"Deleted!\")"
   ]
  }
 ],
 "metadata": {
  "kernelspec": {
   "display_name": ".venv",
   "language": "python",
   "name": "python3"
  },
  "language_info": {
   "codemirror_mode": {
    "name": "ipython",
    "version": 3
   },
   "file_extension": ".py",
   "mimetype": "text/x-python",
   "name": "python",
   "nbconvert_exporter": "python",
   "pygments_lexer": "ipython3",
   "version": "3.12.11"
  }
 },
 "nbformat": 4,
 "nbformat_minor": 5
}
