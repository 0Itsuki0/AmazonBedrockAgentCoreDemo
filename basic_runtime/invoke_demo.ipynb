{
 "cells": [
  {
   "cell_type": "markdown",
   "id": "12991106",
   "metadata": {},
   "source": [
    "# Demo calls to the Runtime Deployed"
   ]
  },
  {
   "cell_type": "code",
   "execution_count": null,
   "id": "c35b6474",
   "metadata": {},
   "outputs": [],
   "source": [
    "runtime_arn = \"arn:aws:bedrock-agentcore:us-east-1:...\""
   ]
  },
  {
   "cell_type": "code",
   "execution_count": 4,
   "id": "166fc233",
   "metadata": {},
   "outputs": [
    {
     "name": "stdout",
     "output_type": "stream",
     "text": [
      "193e4c3c-3c5a-4d33-9cbd-0d17cd2c8ea3\n",
      "Pokémon are creatures that trainers catch, train, and battle in the Pokémon video game, trading card, anime, and merchandise franchises created by Nintendo, Game Freak, and Creatures. Each Pokémon belongs to various types that dictate their abilities and weaknesses in battles.\n",
      "\n",
      "### Key Concepts:\n",
      "\n",
      "1. **Types**: Each Pokémon has one or two types (e.g., Fire, Water, Grass). Types determine the effectiveness of moves in battles:\n",
      "   - **Type Matchups**: Some types are strong against others (e.g., Water is strong against Fire) and weak against others (e.g., Grass is weak against Fire).\n",
      "\n",
      "2. **Battles**: Pokémon battles involve trainers using their Pokémon to fight against opposing Pokémon. Strategy plays a crucial role, especially concerning type advantages, move selection, and status effects.\n",
      "\n",
      "3. **Evolution**: Many Pokémon can evolve into stronger forms, often changing their types or providing access to stronger moves.\n",
      "\n",
      "4. **Abilities**: Each Pokémon has a unique ability that can affect battles in various ways, such as boosting stats or causing other effects.\n",
      "\n",
      "5. **Moves**: Pokémon learn moves that can be used in battles. Moves also have types, and using a move that matches a Pokémon's type can increase its effectiveness (STAB - Same Type Attack Bonus).\n",
      "\n",
      "6. **Catch and Train**: Trainers catch Pokémon using Poké Balls and can level them up through battles to enhance stats and unlock new moves.\n",
      "\n",
      "7. **Pokédex**: This is an in-game digital encyclopedia that catalogs all the Pokémon species along with their types, abilities, and other information.\n",
      "\n",
      "### Choosing Pokémon for Battles:\n",
      "\n",
      "When selecting Pokémon for a battle, consider the following:\n",
      "\n",
      "- **Type Matchups**: Choose Pokémon that have advantageous type matchups against your opponent.\n",
      "- **Level and Stats**: Higher-level Pokémon generally have better stats. Consider the Pokémon's base stats in each category (Attack, Defense, Speed, etc.).\n",
      "- **Moveset**: A balanced moveset with diverse types can help cover weaknesses and exploit enemy vulnerabilities.\n",
      "- **Team Composition**: Having a well-rounded team with complementary types can protect against various threats.\n",
      "\n",
      "If you have specific Pokémon or scenarios in mind, feel free to ask!\n"
     ]
    }
   ],
   "source": [
    "import boto3\n",
    "import json\n",
    "\n",
    "# Initialize the Bedrock AgentCore client\n",
    "agent_core_client = boto3.client('bedrock-agentcore', region_name=\"us-east-1\")\n",
    "\n",
    "\n",
    "# Prepare the payload\n",
    "payload = json.dumps({\"prompt\": \"tell me about pokemon\"}).encode()\n",
    "\n",
    "# Invoke the agent\n",
    "response = agent_core_client.invoke_agent_runtime(\n",
    "    agentRuntimeArn=runtime_arn,\n",
    "    # runtimeSessionId=session_id, # for maintain conversation context across multiple interactions\n",
    "    # qualifier = \"\", # for using specific agent endpoints\n",
    "    payload=payload\n",
    ")\n",
    "\n",
    "print(response['runtimeSessionId'])\n",
    "body = json.load(response[\"response\"])\n",
    "print(body[\"result\"])\n",
    "# .... If you have specific questions or need advice on which Pokémon to use in battles, feel free to ask!"
   ]
  },
  {
   "cell_type": "code",
   "execution_count": null,
   "id": "a78c9e99",
   "metadata": {},
   "outputs": [
    {
     "name": "stdout",
     "output_type": "stream",
     "text": [
      "aa62b0ae-78bf-466f-9751-8229650d9e12\n",
      "{'result': 'Of course! What do you need advice on? Are you looking for help with Pokémon types, battling strategies, team building, or something else?'}\n"
     ]
    }
   ],
   "source": [
    "payload = json.dumps({\"prompt\": \"I need advice\"}).encode()\n",
    "response = agent_core_client.invoke_agent_runtime(\n",
    "    agentRuntimeArn=runtime_arn,\n",
    "    runtimeSessionId=response['runtimeSessionId'], # for maintain conversation context across multiple interactions\n",
    "    # qualifier = \"\", # for using specific agent endpoints\n",
    "    payload=payload\n",
    ")\n",
    "\n",
    "print(response['runtimeSessionId'])\n",
    "body = json.load(response[\"response\"])\n",
    "print(body[\"result\"])\n",
    "# Of course! What do you need advice on? Are you looking for help with Pokémon types, battling strategies, team building, or something else?"
   ]
  },
  {
   "cell_type": "markdown",
   "id": "82b672db",
   "metadata": {},
   "source": [
    "#### Important Note\n",
    "As we can see from the response above, even though we have passed in the `runtimeSessionId`, the agent do not automatically get memory to the previous conversations. \n",
    "<br>\n",
    "(Somewhat obviously, since when we call Runner.run, all we are passing in is the user's query.)\n",
    "<br><br>\n",
    "In order for it to actually keep a short-term memory, we will need to use the **Memory** service as we will see in the [memory](../memory/README.md) demo."
   ]
  }
 ],
 "metadata": {
  "kernelspec": {
   "display_name": ".venv",
   "language": "python",
   "name": "python3"
  },
  "language_info": {
   "codemirror_mode": {
    "name": "ipython",
    "version": 3
   },
   "file_extension": ".py",
   "mimetype": "text/x-python",
   "name": "python",
   "nbconvert_exporter": "python",
   "pygments_lexer": "ipython3",
   "version": "3.12.11"
  }
 },
 "nbformat": 4,
 "nbformat_minor": 5
}
