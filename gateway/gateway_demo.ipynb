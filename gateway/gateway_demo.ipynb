{
 "cells": [
  {
   "cell_type": "markdown",
   "id": "1baa5afe",
   "metadata": {},
   "source": [
    "# AgentCore Gateway Demo\n",
    "\n",
    "A Demo on converting a Lambda function into a MCP compatible tool and create an MCP Server exposing the tool with AgentCore Gateway.\n",
    "- Inbound Auth of the gateway will be controlled by Cognito\n",
    "- Invoking Gateway with MCP Client Libraries\n",
    "\n",
    "For more details, please refer to my article [Bedrock AgentCore Part 5: Gateway. Turn Anything(s) into ONE MCP Server in Seconds!]()"
   ]
  },
  {
   "cell_type": "markdown",
   "id": "90ee38b5",
   "metadata": {},
   "source": [
    "## Set Up"
   ]
  },
  {
   "cell_type": "code",
   "execution_count": 24,
   "id": "91e3e64d",
   "metadata": {},
   "outputs": [],
   "source": [
    "import boto3\n",
    "import json\n",
    "import zipfile\n",
    "import io\n",
    "from bedrock_agentcore_starter_toolkit.operations.gateway.client import GatewayClient\n",
    "import hmac\n",
    "import hashlib\n",
    "import base64\n",
    "from mcp import ClientSession\n",
    "from mcp.client.streamable_http import streamablehttp_client\n",
    "from datetime import timedelta\n",
    "\n",
    "\n",
    "region=\"us-east-1\"\n",
    "lambda_function_name = \"agentcore_gateway_target_lambda\"\n",
    "lambda_execution_role_name = \"AgentCoreLambdaExecutionRole\"\n",
    "gateway_name = \"AgentcoreGateway\"\n",
    "gateway_execution_role_name = \"AgentCoreGatewayExecutionRole\"\n",
    "policy_name = \"lambda_excess\"\n",
    "gateway_target_name = \"LamdaGreetingTarget\"\n",
    "\n",
    "gateway_client = GatewayClient(region_name=region)\n",
    "iam_client = boto3.client('iam')\n",
    "lambda_client = boto3.client('lambda', region_name = region)\n",
    "control_client = boto3.client(\n",
    "    'bedrock-agentcore-control',\n",
    "    region_name=region,\n",
    "    endpoint_url=f\"https://bedrock-agentcore-control.{region}.amazonaws.com\"\n",
    ")\n",
    "cognito_client = boto3.client('cognito-idp', region_name=region)"
   ]
  },
  {
   "cell_type": "markdown",
   "id": "2bc35481",
   "metadata": {},
   "source": [
    "## Create Lambda (Tool For Gateway)\n",
    "\n",
    "This lambda will be later used as a Gateway Target:\n",
    "\n",
    "A target defines the APIs or Lambda function that a Gateway will provide as tools to an agent. Targets can be Lambda functions, OpenAPI specifications, Smithy models, or other tool definitions.\n",
    "\n",
    "In this demo, we will be creating a simple Lambda function to be used as the target."
   ]
  },
  {
   "cell_type": "markdown",
   "id": "8395a204",
   "metadata": {},
   "source": [
    "#### Lambda Execution Role"
   ]
  },
  {
   "cell_type": "code",
   "execution_count": 25,
   "id": "ead1bc10",
   "metadata": {},
   "outputs": [
    {
     "name": "stdout",
     "output_type": "stream",
     "text": [
      "role created: arn:aws:iam::075198889659:role/AgentCoreLambdaExecutionRole\n"
     ]
    }
   ],
   "source": [
    "response = iam_client.create_role(\n",
    "    RoleName=lambda_execution_role_name,\n",
    "    AssumeRolePolicyDocument=json.dumps({\n",
    "        \"Version\": \"2012-10-17\",\n",
    "        \"Statement\": [\n",
    "            {\n",
    "                \"Effect\": \"Allow\",\n",
    "                \"Principal\": {\n",
    "                    \"Service\": \"lambda.amazonaws.com\"\n",
    "                },\n",
    "                \"Action\": \"sts:AssumeRole\"\n",
    "            }\n",
    "        ]\n",
    "    }),\n",
    ")\n",
    "lambda_role_arn = response[\"Role\"][\"Arn\"]\n",
    "print(f\"role created: {lambda_role_arn}\")"
   ]
  },
  {
   "cell_type": "markdown",
   "id": "b2a540c2",
   "metadata": {},
   "source": [
    "#### Lambda Function"
   ]
  },
  {
   "cell_type": "code",
   "execution_count": null,
   "id": "626d1187",
   "metadata": {},
   "outputs": [
    {
     "name": "stdout",
     "output_type": "stream",
     "text": [
      "lambda created: arn:aws:lambda:us-east-1:075198889659:function:agentcore_gateway_target_lambda\n"
     ]
    }
   ],
   "source": [
    "# might need to wait for couple seconds before the role above is created succssfully\n",
    "lambda_code = \"\"\"\n",
    "import json\n",
    "def lambda_handler(event, context):\n",
    "    return {\n",
    "        'statusCode': 200,\n",
    "        'body': json.dumps(f'Hello to {event[\"name\"]}!')\n",
    "    }\n",
    "\"\"\"\n",
    "\n",
    "zip_buffer = io.BytesIO()\n",
    "with zipfile.ZipFile(zip_buffer, 'w', zipfile.ZIP_DEFLATED) as zf:\n",
    "    zf.writestr('lambda_function.py', lambda_code)\n",
    "zip_buffer.seek(0)\n",
    "\n",
    "\n",
    "response = lambda_client.create_function(\n",
    "    FunctionName=lambda_function_name,\n",
    "    Runtime='python3.13',\n",
    "    Role=lambda_role_arn,\n",
    "    Handler='lambda_function.lambda_handler',\n",
    "    Code={\n",
    "        'ZipFile': zip_buffer.read()\n",
    "    },\n",
    "    Timeout=60,\n",
    "    MemorySize=128,\n",
    "    Publish=True,\n",
    ")\n",
    "lambda_arn = response[\"FunctionArn\"]\n",
    "print(f\"lambda created: {lambda_arn}\")"
   ]
  },
  {
   "cell_type": "markdown",
   "id": "225df779",
   "metadata": {},
   "source": [
    "## Gateway Authorizer (Inbound Auth)\n",
    "\n",
    "Since MCP only supports OAuth, each Gateway must have an attached OAuth authorizer. If you don't have an OAuth authorization server already, you will be able to create one in this guide using Cognito.\n",
    "\n",
    "We Will set up Cognito EZ Auth with AgentCore SDK. This eliminates the complexity of OAuth setup. "
   ]
  },
  {
   "cell_type": "code",
   "execution_count": 27,
   "id": "190a7210",
   "metadata": {},
   "outputs": [
    {
     "name": "stderr",
     "output_type": "stream",
     "text": [
      "2025-08-07 16:48:50,800 - bedrock_agentcore.gateway - INFO - Starting EZ Auth setup: Creating Cognito resources...\n",
      "2025-08-07 16:48:52,493 - bedrock_agentcore.gateway - INFO -   ✓ Created User Pool: us-east-1_5lxJlsShE\n",
      "2025-08-07 16:48:53,189 - bedrock_agentcore.gateway - INFO -   ✓ Created domain: agentcore-4c7a7528\n",
      "2025-08-07 16:48:53,190 - bedrock_agentcore.gateway - INFO -   ⏳ Waiting for domain to be available...\n",
      "2025-08-07 16:48:53,458 - bedrock_agentcore.gateway - INFO -   ✓ Domain is active\n",
      "2025-08-07 16:48:53,865 - bedrock_agentcore.gateway - INFO -   ✓ Created resource server: AgentcoreGateway\n",
      "2025-08-07 16:48:54,337 - bedrock_agentcore.gateway - INFO -   ✓ Created client: 5p10bf31hr5daq32pq6ns1i1bq\n",
      "2025-08-07 16:48:54,339 - bedrock_agentcore.gateway - INFO -   ⏳ Waiting for DNS propagation of domain: agentcore-4c7a7528.auth.us-east-1.amazoncognito.com\n",
      "2025-08-07 16:49:54,343 - bedrock_agentcore.gateway - INFO - ✓ EZ Auth setup complete!\n"
     ]
    },
    {
     "name": "stdout",
     "output_type": "stream",
     "text": [
      "{\n",
      "  \"authorizer_config\": {\n",
      "    \"customJWTAuthorizer\": {\n",
      "      \"allowedClients\": [\n",
      "        \"5p10bf31hr5daq32pq6ns1i1bq\"\n",
      "      ],\n",
      "      \"discoveryUrl\": \"https://cognito-idp.us-east-1.amazonaws.com/us-east-1_5lxJlsShE/.well-known/openid-configuration\"\n",
      "    }\n",
      "  },\n",
      "  \"client_info\": {\n",
      "    \"client_id\": \"5p10bf31hr5daq32pq6ns1i1bq\",\n",
      "    \"client_secret\": \"1vl0mhupts638i95pk0fivhusqdhvdlid9ordmqvfdmlfvmn2t7f\",\n",
      "    \"user_pool_id\": \"us-east-1_5lxJlsShE\",\n",
      "    \"token_endpoint\": \"https://agentcore-4c7a7528.auth.us-east-1.amazoncognito.com/oauth2/token\",\n",
      "    \"scope\": \"AgentcoreGateway/invoke\",\n",
      "    \"domain_prefix\": \"agentcore-4c7a7528\"\n",
      "  }\n",
      "}\n"
     ]
    }
   ],
   "source": [
    "# EZ Auth - automatically sets up Cognito OAuth\n",
    "# cognito_result: dictionary with details of the authorization server, client id, and client secret\n",
    "cognito_result = gateway_client.create_oauth_authorizer_with_cognito(gateway_name)\n",
    "print(json.dumps(cognito_result, indent=2))"
   ]
  },
  {
   "cell_type": "markdown",
   "id": "795e7977",
   "metadata": {},
   "source": [
    "## Create Gateway\n",
    "\n",
    "**Semantic search**\n",
    "\n",
    "Enables intelligent tool discovery so that we are not limited by typical list tools limits (typically 100 or so). This capability delivers contextually relevant tool subsets, significantly improving tool selection accuracy through focused, relevant results, inference performance with reduced token processing and overall orchestration efficiency and response times.\n",
    "\n"
   ]
  },
  {
   "cell_type": "markdown",
   "id": "5780314a",
   "metadata": {},
   "source": [
    "#### Create Gateway Execution Role"
   ]
  },
  {
   "cell_type": "code",
   "execution_count": 28,
   "id": "9e5007dd",
   "metadata": {},
   "outputs": [
    {
     "name": "stdout",
     "output_type": "stream",
     "text": [
      "role created: arn:aws:iam::075198889659:role/AgentCoreGatewayExecutionRole\n"
     ]
    }
   ],
   "source": [
    "response = iam_client.create_role(\n",
    "    RoleName=gateway_execution_role_name,\n",
    "    AssumeRolePolicyDocument=json.dumps({\n",
    "        \"Version\": \"2012-10-17\",\n",
    "        \"Statement\": [\n",
    "            {\n",
    "                \"Effect\": \"Allow\",\n",
    "                \"Principal\": {\n",
    "                    \"Service\": \"bedrock-agentcore.amazonaws.com\"\n",
    "                },\n",
    "                \"Action\": \"sts:AssumeRole\"\n",
    "            }\n",
    "        ]\n",
    "    }),\n",
    ")\n",
    "gateway_role_arn = response[\"Role\"][\"Arn\"]\n",
    "print(f\"role created: {gateway_role_arn}\")"
   ]
  },
  {
   "cell_type": "markdown",
   "id": "2514e043",
   "metadata": {},
   "source": [
    "#### MCP Gateway\n",
    "\n",
    "Currently mcp is the only protocolConfiguration supported."
   ]
  },
  {
   "cell_type": "code",
   "execution_count": 29,
   "id": "867af026",
   "metadata": {},
   "outputs": [
    {
     "name": "stderr",
     "output_type": "stream",
     "text": [
      "2025-08-07 17:03:13,987 - bedrock_agentcore.gateway - INFO - Creating Gateway\n",
      "2025-08-07 17:03:15,115 - bedrock_agentcore.gateway - INFO - ✓ Created Gateway: arn:aws:bedrock-agentcore:us-east-1:075198889659:gateway/agentcoregateway-svhbi7t2pz\n",
      "2025-08-07 17:03:15,116 - bedrock_agentcore.gateway - INFO -   Gateway URL: https://agentcoregateway-svhbi7t2pz.gateway.bedrock-agentcore.us-east-1.amazonaws.com/mcp\n",
      "2025-08-07 17:03:15,116 - bedrock_agentcore.gateway - INFO -   Waiting for Gateway to be ready...\n",
      "2025-08-07 17:03:15,421 - bedrock_agentcore.gateway - INFO - \n",
      "✅Gateway is ready\n"
     ]
    },
    {
     "name": "stdout",
     "output_type": "stream",
     "text": [
      "Gateway created. arn:aws:bedrock-agentcore:us-east-1:075198889659:gateway/agentcoregateway-svhbi7t2pz\n"
     ]
    }
   ],
   "source": [
    "# gateway: the created Gateway\n",
    "# Response syntax: https://boto3.amazonaws.com/v1/documentation/api/latest/reference/services/bedrock-agentcore-control/client/create_gateway.html\n",
    "gateway = gateway_client.create_mcp_gateway(\n",
    "    name=gateway_name, # name of the gateway (defaults to TestGateway).\n",
    "    role_arn=gateway_role_arn, # the role arn to use (creates one if none provided). if not set, one will be created.\n",
    "    authorizer_config=cognito_result[\"authorizer_config\"], # the authorizer config (will create one if none provided).\n",
    "    enable_semantic_search=True, # whether to enable search tool (defaults to True).\n",
    ")\n",
    "print(f\"Gateway created. {gateway[\"gatewayArn\"]}\")"
   ]
  },
  {
   "cell_type": "markdown",
   "id": "6cf26ba3",
   "metadata": {},
   "source": [
    "## Add Gateway Target\n",
    "\n",
    "#### SDK Bug\n",
    "\n",
    "`gateway_client.create_mcp_gateway_target` will not work if we have a pre-created lambda. We will get the following error.\n",
    "```\n",
    "ParamValidationError: Parameter validation failed:\n",
    "Missing required parameter in input: \"credentialProviderConfigurations\"\n",
    "```\n",
    "\n",
    "**Gateway Target:**\n",
    "\n",
    "A target defines the APIs or Lambda function that a Gateway will provide as tools to an agent. Targets can be Lambda functions, OpenAPI specifications, Smithy models, or other tool definitions.\n",
    "\n",
    "\n",
    "Gateway allows us to attach multiple targets to a Gateway and we can change the targets / tools attached to a gateway at any point.\n",
    "\n",
    "Each target can have its own credential provider attached enabling you to securely access targets whether they need IAM, API Key, or OAuth credentials. Note: the authorization grant flow (three-legged OAuth) is not supported as a target credential type.\n",
    "\n",
    "With this, Gateway becomes a single MCP URL enabling access to all of the relevant tools for an agent across myriad APIs. Let's dive deeper into how to define each of the target types."
   ]
  },
  {
   "cell_type": "markdown",
   "id": "a5a2cdd3",
   "metadata": {},
   "source": [
    "#### Define Target Payload"
   ]
  },
  {
   "cell_type": "code",
   "execution_count": null,
   "id": "13087064",
   "metadata": {},
   "outputs": [],
   "source": [
    "# Schema for defining how the gateway uses a Lambda function to communicate with the target,\n",
    "# as well as the tools provided by the Lambda function.\n",
    "tool_name = \"greeting_tool\"\n",
    "function_schema = [{\n",
    "    \"name\": tool_name,\n",
    "    \"description\": \"Greet the user.\",\n",
    "    \"inputSchema\": {\n",
    "        \"type\": \"object\",\n",
    "        \"properties\": {\n",
    "            \"name\": {\n",
    "                \"type\": \"string\"\n",
    "            }\n",
    "        },\n",
    "        \"required\": [\"name\"]\n",
    "    },\n",
    "    # optional\n",
    "    \"outputSchema\": {\n",
    "        \"type\": \"object\",\n",
    "        \"properties\": {\n",
    "            \"statusCode\": {\n",
    "                \"type\": \"number\"\n",
    "            },\n",
    "            \"body\": {\n",
    "                \"type\": \"string\"\n",
    "            }\n",
    "        },\n",
    "        \"required\": [\"statusCode\", \"body\"]\n",
    "    }\n",
    "}]\n",
    "\n",
    "target_payload = {\n",
    "    \"lambdaArn\": lambda_arn,\n",
    "    \"toolSchema\": {\n",
    "        \"inlinePayload\": function_schema\n",
    "    }\n",
    "}"
   ]
  },
  {
   "cell_type": "markdown",
   "id": "ae3b6148",
   "metadata": {},
   "source": [
    "#### Create Target"
   ]
  },
  {
   "cell_type": "code",
   "execution_count": 31,
   "id": "e0e07aa2",
   "metadata": {},
   "outputs": [
    {
     "name": "stdout",
     "output_type": "stream",
     "text": [
      "target created: QU3UWKUXUY\n"
     ]
    }
   ],
   "source": [
    "lambda_target = control_client.create_gateway_target(\n",
    "    gatewayIdentifier=gateway[\"gatewayId\"],\n",
    "    name=gateway_target_name,\n",
    "    targetConfiguration={\n",
    "        \"mcp\": { \"lambda\": target_payload }\n",
    "    },\n",
    "    credentialProviderConfigurations=[{\"credentialProviderType\": \"GATEWAY_IAM_ROLE\"}]\n",
    ")\n",
    "\n",
    "print(f\"target created: {lambda_target[\"targetId\"]}\")"
   ]
  },
  {
   "cell_type": "markdown",
   "id": "89ba4a59",
   "metadata": {},
   "source": [
    "## Outbound Auth / AgentCore Credential Provider\n",
    "\n",
    "When Gateway makes calls to your APIs or Lambda function it must use some credentials to access those functionalities. When you create a Smithy or Lambda target, Gateway uses the attached execution role to make calls to those targets. \n",
    "\n",
    "When you create an OpenAPI target, you must attach an AgentCore credential provider which stores the API Key or OAuth credentials that Gateway will use to access the OpenAPI target. For more details on Setting up Outbound Auth: https://docs.aws.amazon.com/bedrock-agentcore/latest/devguide/gateway-outbound-auth.html"
   ]
  },
  {
   "cell_type": "markdown",
   "id": "3bd7f7f5",
   "metadata": {},
   "source": [
    "#### Add Permission to Gateway Execution Role"
   ]
  },
  {
   "cell_type": "code",
   "execution_count": 32,
   "id": "35375019",
   "metadata": {},
   "outputs": [
    {
     "name": "stdout",
     "output_type": "stream",
     "text": [
      "Policy added.\n"
     ]
    }
   ],
   "source": [
    "# Add policy\n",
    "iam_client.put_role_policy(\n",
    "    RoleName=gateway_execution_role_name,\n",
    "    PolicyName=policy_name,\n",
    "    PolicyDocument=json.dumps({\n",
    "        \"Version\": \"2012-10-17\",\n",
    "        \"Statement\": [\n",
    "            {\n",
    "                \"Effect\": \"Allow\",\n",
    "                \"Action\": [\n",
    "                    \"lambda:InvokeFunction\",\n",
    "                ],\n",
    "                \"Resource\": lambda_arn\n",
    "            }\n",
    "        ]\n",
    "    })\n",
    ")\n",
    "print(\"Policy added.\")"
   ]
  },
  {
   "cell_type": "markdown",
   "id": "57d1154d",
   "metadata": {},
   "source": [
    "### Add resource-based policy to Lambda\n",
    "\n",
    "A resource-based policy that allows the Gateway's execution role to invoke it"
   ]
  },
  {
   "cell_type": "code",
   "execution_count": 33,
   "id": "e92c9b9d",
   "metadata": {},
   "outputs": [
    {
     "name": "stdout",
     "output_type": "stream",
     "text": [
      "Policy added to lambda.\n"
     ]
    }
   ],
   "source": [
    "response = lambda_client.add_permission(\n",
    "    FunctionName=lambda_function_name,\n",
    "    StatementId='GatewayInvoke',\n",
    "    Action='lambda:InvokeFunction',\n",
    "    Principal=gateway_role_arn,\n",
    ")\n",
    "print(\"Policy added to lambda.\")"
   ]
  },
  {
   "cell_type": "markdown",
   "id": "b463e48e",
   "metadata": {},
   "source": [
    "## Use Gateway with MCP\n",
    "\n",
    "Gateway implements the Model Context Protocol (MCP), which provides a standardized way for agents to discover and invoke tools. The gateway exposes two main MCP operations:\n",
    "\n",
    "tools/list: Lists all available tools provided by the gateway\n",
    "tools/call: Invokes a specific tool with the provided arguments\n",
    "To use these operations, you need to make HTTP requests to the gateway's MCP endpoint with the appropriate authentication."
   ]
  },
  {
   "cell_type": "markdown",
   "id": "3b0f1c54",
   "metadata": {},
   "source": [
    "#### Making MCP Requests"
   ]
  },
  {
   "cell_type": "code",
   "execution_count": null,
   "id": "6fb524f4",
   "metadata": {},
   "outputs": [
    {
     "name": "stderr",
     "output_type": "stream",
     "text": [
      "2025-08-07 17:03:43,784 - bedrock_agentcore.gateway - INFO - Fetching test token from Cognito...\n",
      "2025-08-07 17:03:43,785 - bedrock_agentcore.gateway - INFO -   Attempting to connect to token endpoint: https://agentcore-4c7a7528.auth.us-east-1.amazoncognito.com/oauth2/token\n",
      "2025-08-07 17:03:44,910 - bedrock_agentcore.gateway - INFO - ✓ Got test token successfully\n"
     ]
    }
   ],
   "source": [
    "# obtain access token\n",
    "access_token = gateway_client.get_access_token_for_cognito(cognito_result[\"client_info\"])\n",
    "\n",
    "headers = {\n",
    "    \"Content-Type\": \"application/json\",\n",
    "    \"Authorization\": f\"Bearer {access_token}\"\n",
    "}\n",
    "url = gateway[\"gatewayUrl\"]"
   ]
  },
  {
   "cell_type": "markdown",
   "id": "f23e397b",
   "metadata": {},
   "source": [
    "##### List Tools"
   ]
  },
  {
   "cell_type": "code",
   "execution_count": 35,
   "id": "9994a009",
   "metadata": {},
   "outputs": [
    {
     "name": "stdout",
     "output_type": "stream",
     "text": [
      "Initializing MCP...\n",
      "MCP Server Initialize successful! - meta=None protocolVersion='2025-03-26' capabilities=ServerCapabilities(experimental=None, logging=None, prompts=None, resources=None, tools=ToolsCapability(listChanged=False), completions=None) serverInfo=Implementation(name='AgentcoreGateway', title=None, version='1.0.0') instructions=None\n",
      "Listing tools...\n",
      "2 tools available\n",
      "Tool: x_amz_bedrock_agentcore_search\n",
      "description: A special tool that returns a trimmed down list of tools given a context. Use this tool only when there are many tools available and you want to get a subset that matches the provided context.\n",
      "input schema: {'type': 'object', 'properties': {'query': {'type': 'string'}}, 'required': ['query']}\n",
      "output schema: None\n",
      "---------------\n",
      "Tool: LamdaGreetingTarget___greeting_tool\n",
      "description: Greet the user.\n",
      "input schema: {'type': 'object', 'properties': {'name': {'type': 'string'}}, 'required': ['name']}\n",
      "output schema: None\n",
      "---------------\n"
     ]
    }
   ],
   "source": [
    "target_tool_name = None\n",
    "\n",
    "async with streamablehttp_client( url=url, headers=headers) as (read_stream, write_stream, callA):\n",
    "    async with ClientSession(read_stream, write_stream) as session:\n",
    "        print(\"Initializing MCP...\")\n",
    "        _init_response = await session.initialize()\n",
    "        print(f\"MCP Server Initialize successful! - {_init_response}\")\n",
    "\n",
    "        # 2. List available tools\n",
    "        print(\"Listing tools...\")\n",
    "        cursor = True\n",
    "        tools = []\n",
    "        while cursor:\n",
    "            next_cursor = cursor\n",
    "            if type(cursor) == bool:\n",
    "                next_cursor = None\n",
    "            list_tools_response = await session.list_tools(next_cursor)\n",
    "            tools.extend(list_tools_response.tools)\n",
    "            cursor = list_tools_response.nextCursor\n",
    "\n",
    "\n",
    "        print(f\"{len(tools)} tools available\")\n",
    "        for tool in tools:\n",
    "            if tool_name in tool.name:\n",
    "                target_tool_name = tool.name\n",
    "            print(f\"Tool: {tool.name}\")\n",
    "            print(f\"description: {tool.description}\")\n",
    "            print(f\"input schema: {tool.inputSchema}\")\n",
    "            print(f\"output schema: {tool.outputSchema}\")\n",
    "            print(\"---------------\")"
   ]
  },
  {
   "cell_type": "markdown",
   "id": "22abc78d",
   "metadata": {},
   "source": [
    "##### Call Tools"
   ]
  },
  {
   "cell_type": "code",
   "execution_count": 18,
   "id": "83078fc2",
   "metadata": {},
   "outputs": [
    {
     "name": "stdout",
     "output_type": "stream",
     "text": [
      "Initializing MCP...\n",
      "MCP Server Initialize successful! - meta=None protocolVersion='2025-03-26' capabilities=ServerCapabilities(experimental=None, logging=None, prompts=None, resources=None, tools=ToolsCapability(listChanged=False), completions=None) serverInfo=Implementation(name='AgentcoreGateway', title=None, version='1.0.0') instructions=None\n",
      "{\n",
      "  \"response\": {\n",
      "    \"payload\": {\n",
      "      \"statusCode\": 200,\n",
      "      \"body\": \"\\\"Hello to itsuki!\\\"\"\n",
      "    },\n",
      "    \"clientError\": false,\n",
      "    \"clientErrorMessage\": null,\n",
      "    \"toolInvokeRequestId\": \"3eec22fc-869e-4dc0-bfc8-05861944ff22\"\n",
      "  }\n",
      "}\n"
     ]
    }
   ],
   "source": [
    "async with streamablehttp_client( url=url, headers=headers) as (read_stream, write_stream, callA):\n",
    "    async with ClientSession(read_stream, write_stream) as session:\n",
    "        print(\"Initializing MCP...\")\n",
    "        _init_response = await session.initialize()\n",
    "        print(f\"MCP Server Initialize successful! - {_init_response}\")\n",
    "        if target_tool_name != None:\n",
    "            args = {\n",
    "                \"name\": \"itsuki\"\n",
    "            }\n",
    "            invoke_tool_response = await session.call_tool(\n",
    "                target_tool_name,\n",
    "                arguments=args,\n",
    "                read_timeout_seconds=timedelta(seconds=60)\n",
    "            )\n",
    "            contents = invoke_tool_response.content\n",
    "            for content in contents:\n",
    "                text = content.text\n",
    "                try:\n",
    "                    content = json.dumps(json.loads(text), indent=2)\n",
    "                except:\n",
    "                    content = text\n",
    "                print(content)\n"
   ]
  },
  {
   "cell_type": "markdown",
   "id": "8f47edd7",
   "metadata": {},
   "source": [
    "##### Search Tools\n",
    "\n",
    "Tool provided by AWS for Semantic search: `x_amz_bedrock_agentcore_search`\n",
    "\n",
    "Input: \"query\": string\n",
    "\n",
    "Output: A List of Tool objects that can be used based on the query.  \n",
    "\n",
    "**Semantic search**\n",
    "\n",
    "Enables intelligent tool discovery so that we are not limited by typical list tools limits (typically 100 or so). This capability delivers contextually relevant tool subsets, significantly improving tool selection accuracy through focused, relevant results, inference performance with reduced token processing and overall orchestration efficiency and response times.\n",
    "\n"
   ]
  },
  {
   "cell_type": "code",
   "execution_count": 19,
   "id": "fb9eae0a",
   "metadata": {},
   "outputs": [
    {
     "name": "stdout",
     "output_type": "stream",
     "text": [
      "Initializing MCP...\n",
      "MCP Server Initialize successful! - meta=None protocolVersion='2025-03-26' capabilities=ServerCapabilities(experimental=None, logging=None, prompts=None, resources=None, tools=ToolsCapability(listChanged=False), completions=None) serverInfo=Implementation(name='AgentcoreGateway', title=None, version='1.0.0') instructions=None\n",
      "{\n",
      "  \"tools\": [\n",
      "    {\n",
      "      \"inputSchema\": {\n",
      "        \"type\": \"object\",\n",
      "        \"properties\": {\n",
      "          \"name\": {\n",
      "            \"type\": \"string\"\n",
      "          }\n",
      "        },\n",
      "        \"required\": [\n",
      "          \"name\"\n",
      "        ]\n",
      "      },\n",
      "      \"name\": \"LamdaGreetingTarget___greeting_tool\",\n",
      "      \"description\": \"Greet the user.\"\n",
      "    }\n",
      "  ]\n",
      "}\n"
     ]
    }
   ],
   "source": [
    "search_tool_name = \"x_amz_bedrock_agentcore_search\"\n",
    "async with streamablehttp_client( url=url, headers=headers) as (read_stream, write_stream, callA):\n",
    "    async with ClientSession(read_stream, write_stream) as session:\n",
    "        print(\"Initializing MCP...\")\n",
    "        _init_response = await session.initialize()\n",
    "        print(f\"MCP Server Initialize successful! - {_init_response}\")\n",
    "        args = {\n",
    "            \"query\": \"I want to say hello to itsuki\"\n",
    "        }\n",
    "        invoke_tool_response = await session.call_tool(\n",
    "            search_tool_name,\n",
    "            arguments=args,\n",
    "            read_timeout_seconds=timedelta(seconds=60)\n",
    "        )\n",
    "        contents = invoke_tool_response.content\n",
    "        for content in contents:\n",
    "            text = content.text\n",
    "            try:\n",
    "                content = json.dumps(json.loads(text), indent=2)\n",
    "            except:\n",
    "                content = text\n",
    "            print(content)"
   ]
  },
  {
   "cell_type": "markdown",
   "id": "56ca7b71",
   "metadata": {},
   "source": [
    "## Clean Up"
   ]
  },
  {
   "cell_type": "code",
   "execution_count": 38,
   "id": "27e19636",
   "metadata": {},
   "outputs": [],
   "source": [
    "# delete gateway target\n",
    "response = control_client.delete_gateway_target(\n",
    "    gatewayIdentifier=gateway[\"gatewayId\"],\n",
    "    targetId = lambda_target[\"targetId\"]\n",
    ")\n",
    "\n",
    "# delete gateway\n",
    "response = control_client.delete_gateway(\n",
    "    gatewayIdentifier=gateway[\"gatewayId\"]\n",
    ")"
   ]
  },
  {
   "cell_type": "code",
   "execution_count": 39,
   "id": "ec9cd123",
   "metadata": {},
   "outputs": [],
   "source": [
    "user_pool_id = cognito_result[\"client_info\"][\"user_pool_id\"]\n",
    "describe_response = cognito_client.describe_user_pool(\n",
    "    UserPoolId=user_pool_id,\n",
    ")\n",
    "user_pool_config = describe_response[\"UserPool\"]\n",
    "# delete domain\n",
    "response = cognito_client.delete_user_pool_domain(\n",
    "    Domain=user_pool_config[\"Domain\"],\n",
    "    UserPoolId=user_pool_id\n",
    ")\n",
    "# delete user pool\n",
    "response = cognito_client.delete_user_pool(\n",
    "    UserPoolId=user_pool_id\n",
    ")"
   ]
  },
  {
   "cell_type": "code",
   "execution_count": 40,
   "id": "00e44283",
   "metadata": {},
   "outputs": [],
   "source": [
    "# delete lambda\n",
    "response = lambda_client.delete_function(\n",
    "    FunctionName=lambda_function_name,\n",
    ")"
   ]
  },
  {
   "cell_type": "code",
   "execution_count": 41,
   "id": "4004935a",
   "metadata": {},
   "outputs": [
    {
     "name": "stdout",
     "output_type": "stream",
     "text": [
      "Deleted!\n"
     ]
    }
   ],
   "source": [
    "# delete role policy and role\n",
    "iam_client.delete_role_policy(\n",
    "    RoleName=gateway_execution_role_name,\n",
    "    PolicyName=policy_name\n",
    ")\n",
    "\n",
    "iam_client.delete_role(\n",
    "    RoleName = gateway_execution_role_name\n",
    ")\n",
    "\n",
    "iam_client.delete_role(\n",
    "    RoleName = lambda_execution_role_name\n",
    ")\n",
    "\n",
    "print(\"Deleted!\")"
   ]
  }
 ],
 "metadata": {
  "kernelspec": {
   "display_name": ".venv",
   "language": "python",
   "name": "python3"
  },
  "language_info": {
   "codemirror_mode": {
    "name": "ipython",
    "version": 3
   },
   "file_extension": ".py",
   "mimetype": "text/x-python",
   "name": "python",
   "nbconvert_exporter": "python",
   "pygments_lexer": "ipython3",
   "version": "3.12.11"
  }
 },
 "nbformat": 4,
 "nbformat_minor": 5
}
