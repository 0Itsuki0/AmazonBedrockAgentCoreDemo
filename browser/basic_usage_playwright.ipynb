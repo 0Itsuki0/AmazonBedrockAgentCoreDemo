{
 "cells": [
  {
   "cell_type": "markdown",
   "id": "9268fed7",
   "metadata": {},
   "source": [
    "# Basic Usage \n",
    "\n",
    "Demo the basic usage of browser tool with simple PlayWright Intergration \n",
    "- Can be used for testing web applications "
   ]
  },
  {
   "cell_type": "code",
   "execution_count": 1,
   "id": "fdefe1b0",
   "metadata": {},
   "outputs": [],
   "source": [
    "from bedrock_agentcore.tools.browser_client import BrowserClient\n",
    "from playwright.async_api import async_playwright, BrowserType\n",
    "\n",
    "region = \"us-east-1\"\n",
    "browser_client = BrowserClient(region=region)"
   ]
  },
  {
   "cell_type": "markdown",
   "id": "abcec0f3",
   "metadata": {},
   "source": [
    "### Start Session"
   ]
  },
  {
   "cell_type": "code",
   "execution_count": null,
   "id": "3c36dc02",
   "metadata": {},
   "outputs": [
    {
     "name": "stdout",
     "output_type": "stream",
     "text": [
      "session started: 01K1YEMM2EF9AVQ651EK2468EW\n"
     ]
    }
   ],
   "source": [
    "session_id = browser_client.start(\n",
    "    # identifier=\"some_identifier\", # The browser sandbox identifier to use. default: \"aws.browser.v1\"\n",
    "    # name= None, # A name for this session. If not provided, a name will be generated using a UUID.\n",
    "    # session_timeout_seconds=100 #  The timeout for the session in seconds. Default to 3600.\n",
    ")\n",
    "print(f\"session started: {session_id}\")\n"
   ]
  },
  {
   "cell_type": "markdown",
   "id": "a5913832",
   "metadata": {},
   "source": [
    "### Generate Headers \n",
    "\n",
    "Generate the WebSocket headers needed for connecting to the browser sandbox"
   ]
  },
  {
   "cell_type": "code",
   "execution_count": 3,
   "id": "ade118a2",
   "metadata": {},
   "outputs": [
    {
     "name": "stdout",
     "output_type": "stream",
     "text": [
      "websocket url: wss://bedrock-agentcore.us-east-1.amazonaws.com/browser-streams/aws.browser.v1/sessions/01K1YEMM2EF9AVQ651EK2468EW/automation\n"
     ]
    }
   ],
   "source": [
    "# Return valud: Tuple[str, Dict[str, str]]: A tuple containing the WebSocket URL and the headers dictionary.\n",
    "ws_url, headers = browser_client.generate_ws_headers()\n",
    "print(f\"websocket url: {ws_url}\")"
   ]
  },
  {
   "cell_type": "markdown",
   "id": "d9003e76",
   "metadata": {},
   "source": [
    "### Make connection & Perform Operations\n",
    "\n",
    "To take control of the browser session by disabling the automation stream\n",
    "- browser_client.take_control()\n",
    "\n",
    "To release control of the browser session and enable the automation stream\n",
    "- browser_client.release_control()"
   ]
  },
  {
   "cell_type": "code",
   "execution_count": null,
   "id": "0761499c",
   "metadata": {},
   "outputs": [
    {
     "name": "stdout",
     "output_type": "stream",
     "text": [
      "title: Itsuki – Medium\n"
     ]
    }
   ],
   "source": [
    "async with async_playwright() as playwright:\n",
    "    chromium: BrowserType = playwright.chromium\n",
    "    browser = await chromium.connect_over_cdp(\n",
    "        endpoint_url=ws_url,\n",
    "        headers=headers\n",
    "    )\n",
    "    page = await browser.new_page()\n",
    "\n",
    "    try:\n",
    "        await page.goto(\"https://medium.com/@itsuki.enjoy\")\n",
    "        print(f\"title: {await page.title()}\")\n",
    "\n",
    "    except Exception as e:\n",
    "        print(f\"Error running page command: {e}\")\n",
    "\n",
    "    finally:\n",
    "        await page.close()\n",
    "        await browser.close()\n"
   ]
  },
  {
   "cell_type": "markdown",
   "id": "22a3c449",
   "metadata": {},
   "source": [
    "### Stop Session"
   ]
  },
  {
   "cell_type": "code",
   "execution_count": 19,
   "id": "4c6d6cc6",
   "metadata": {},
   "outputs": [],
   "source": [
    "browser_client.stop()"
   ]
  }
 ],
 "metadata": {
  "kernelspec": {
   "display_name": ".venv",
   "language": "python",
   "name": "python3"
  },
  "language_info": {
   "codemirror_mode": {
    "name": "ipython",
    "version": 3
   },
   "file_extension": ".py",
   "mimetype": "text/x-python",
   "name": "python",
   "nbconvert_exporter": "python",
   "pygments_lexer": "ipython3",
   "version": "3.12.11"
  }
 },
 "nbformat": 4,
 "nbformat_minor": 5
}
